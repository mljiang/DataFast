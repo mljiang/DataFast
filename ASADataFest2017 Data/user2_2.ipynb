{
 "cells": [
  {
   "cell_type": "code",
   "execution_count": 1,
   "metadata": {
    "collapsed": false
   },
   "outputs": [],
   "source": [
    "import pandas as pd"
   ]
  },
  {
   "cell_type": "code",
   "execution_count": 2,
   "metadata": {
    "collapsed": false
   },
   "outputs": [],
   "source": [
    "dat = pd.read_csv(\"data.txt\", sep= \"\\t\")"
   ]
  },
  {
   "cell_type": "code",
   "execution_count": 4,
   "metadata": {
    "collapsed": true
   },
   "outputs": [],
   "source": [
    "kkkk=dat[['user_id','user_location_latitude','user_location_longitude','is_mobile','is_package','channel','srch_adults_cnt','srch_children_cnt']]"
   ]
  },
  {
   "cell_type": "code",
   "execution_count": 6,
   "metadata": {
    "collapsed": false
   },
   "outputs": [
    {
     "data": {
      "text/html": [
       "<div>\n",
       "<table border=\"1\" class=\"dataframe\">\n",
       "  <thead>\n",
       "    <tr style=\"text-align: right;\">\n",
       "      <th></th>\n",
       "      <th>user_id</th>\n",
       "      <th>user_location_latitude</th>\n",
       "      <th>user_location_longitude</th>\n",
       "      <th>is_mobile</th>\n",
       "      <th>is_package</th>\n",
       "      <th>channel</th>\n",
       "      <th>srch_adults_cnt</th>\n",
       "      <th>srch_children_cnt</th>\n",
       "    </tr>\n",
       "  </thead>\n",
       "  <tbody>\n",
       "    <tr>\n",
       "      <th>count</th>\n",
       "      <td>1.088454e+07</td>\n",
       "      <td>8.626950e+06</td>\n",
       "      <td>8.626950e+06</td>\n",
       "      <td>1.088454e+07</td>\n",
       "      <td>1.088454e+07</td>\n",
       "      <td>1.088454e+07</td>\n",
       "      <td>1.088454e+07</td>\n",
       "      <td>1.088454e+07</td>\n",
       "    </tr>\n",
       "    <tr>\n",
       "      <th>mean</th>\n",
       "      <td>2.062275e+07</td>\n",
       "      <td>3.892793e+01</td>\n",
       "      <td>-9.183505e+01</td>\n",
       "      <td>2.210556e-01</td>\n",
       "      <td>1.964351e-01</td>\n",
       "      <td>4.189634e+02</td>\n",
       "      <td>2.058712e+00</td>\n",
       "      <td>3.120345e-01</td>\n",
       "    </tr>\n",
       "    <tr>\n",
       "      <th>std</th>\n",
       "      <td>1.237027e+09</td>\n",
       "      <td>7.266745e+00</td>\n",
       "      <td>2.783950e+01</td>\n",
       "      <td>4.149579e-01</td>\n",
       "      <td>3.973014e-01</td>\n",
       "      <td>1.289246e+02</td>\n",
       "      <td>8.583064e-01</td>\n",
       "      <td>7.515876e-01</td>\n",
       "    </tr>\n",
       "    <tr>\n",
       "      <th>min</th>\n",
       "      <td>-2.147479e+09</td>\n",
       "      <td>-4.288822e+01</td>\n",
       "      <td>-1.665528e+02</td>\n",
       "      <td>0.000000e+00</td>\n",
       "      <td>0.000000e+00</td>\n",
       "      <td>2.310000e+02</td>\n",
       "      <td>0.000000e+00</td>\n",
       "      <td>0.000000e+00</td>\n",
       "    </tr>\n",
       "    <tr>\n",
       "      <th>25%</th>\n",
       "      <td>-1.041901e+09</td>\n",
       "      <td>3.405977e+01</td>\n",
       "      <td>-1.171684e+02</td>\n",
       "      <td>0.000000e+00</td>\n",
       "      <td>0.000000e+00</td>\n",
       "      <td>2.930000e+02</td>\n",
       "      <td>2.000000e+00</td>\n",
       "      <td>0.000000e+00</td>\n",
       "    </tr>\n",
       "    <tr>\n",
       "      <th>50%</th>\n",
       "      <td>3.307846e+07</td>\n",
       "      <td>3.952317e+01</td>\n",
       "      <td>-8.814383e+01</td>\n",
       "      <td>0.000000e+00</td>\n",
       "      <td>0.000000e+00</td>\n",
       "      <td>5.100000e+02</td>\n",
       "      <td>2.000000e+00</td>\n",
       "      <td>0.000000e+00</td>\n",
       "    </tr>\n",
       "    <tr>\n",
       "      <th>75%</th>\n",
       "      <td>1.087143e+09</td>\n",
       "      <td>4.303674e+01</td>\n",
       "      <td>-7.854303e+01</td>\n",
       "      <td>0.000000e+00</td>\n",
       "      <td>0.000000e+00</td>\n",
       "      <td>5.410000e+02</td>\n",
       "      <td>2.000000e+00</td>\n",
       "      <td>0.000000e+00</td>\n",
       "    </tr>\n",
       "    <tr>\n",
       "      <th>max</th>\n",
       "      <td>2.147459e+09</td>\n",
       "      <td>7.128938e+01</td>\n",
       "      <td>1.535213e+02</td>\n",
       "      <td>1.000000e+00</td>\n",
       "      <td>1.000000e+00</td>\n",
       "      <td>5.410000e+02</td>\n",
       "      <td>9.000000e+00</td>\n",
       "      <td>9.000000e+00</td>\n",
       "    </tr>\n",
       "  </tbody>\n",
       "</table>\n",
       "</div>"
      ],
      "text/plain": [
       "            user_id  user_location_latitude  user_location_longitude  \\\n",
       "count  1.088454e+07            8.626950e+06             8.626950e+06   \n",
       "mean   2.062275e+07            3.892793e+01            -9.183505e+01   \n",
       "std    1.237027e+09            7.266745e+00             2.783950e+01   \n",
       "min   -2.147479e+09           -4.288822e+01            -1.665528e+02   \n",
       "25%   -1.041901e+09            3.405977e+01            -1.171684e+02   \n",
       "50%    3.307846e+07            3.952317e+01            -8.814383e+01   \n",
       "75%    1.087143e+09            4.303674e+01            -7.854303e+01   \n",
       "max    2.147459e+09            7.128938e+01             1.535213e+02   \n",
       "\n",
       "          is_mobile    is_package       channel  srch_adults_cnt  \\\n",
       "count  1.088454e+07  1.088454e+07  1.088454e+07     1.088454e+07   \n",
       "mean   2.210556e-01  1.964351e-01  4.189634e+02     2.058712e+00   \n",
       "std    4.149579e-01  3.973014e-01  1.289246e+02     8.583064e-01   \n",
       "min    0.000000e+00  0.000000e+00  2.310000e+02     0.000000e+00   \n",
       "25%    0.000000e+00  0.000000e+00  2.930000e+02     2.000000e+00   \n",
       "50%    0.000000e+00  0.000000e+00  5.100000e+02     2.000000e+00   \n",
       "75%    0.000000e+00  0.000000e+00  5.410000e+02     2.000000e+00   \n",
       "max    1.000000e+00  1.000000e+00  5.410000e+02     9.000000e+00   \n",
       "\n",
       "       srch_children_cnt  \n",
       "count       1.088454e+07  \n",
       "mean        3.120345e-01  \n",
       "std         7.515876e-01  \n",
       "min         0.000000e+00  \n",
       "25%         0.000000e+00  \n",
       "50%         0.000000e+00  \n",
       "75%         0.000000e+00  \n",
       "max         9.000000e+00  "
      ]
     },
     "execution_count": 6,
     "metadata": {},
     "output_type": "execute_result"
    }
   ],
   "source": [
    "kkkk.describe()"
   ]
  },
  {
   "cell_type": "markdown",
   "metadata": {
    "collapsed": true
   },
   "source": [
    "# dat1 = pd.read_csv(\"dest.txt\", sep ='\\t')"
   ]
  },
  {
   "cell_type": "code",
   "execution_count": 7,
   "metadata": {
    "collapsed": false
   },
   "outputs": [
    {
     "data": {
      "text/plain": [
       "(36407, 144)"
      ]
     },
     "execution_count": 7,
     "metadata": {},
     "output_type": "execute_result"
    }
   ],
   "source": [
    "dat1.shape"
   ]
  },
  {
   "cell_type": "code",
   "execution_count": 8,
   "metadata": {
    "collapsed": false
   },
   "outputs": [
    {
     "data": {
      "text/plain": [
       "(10884539, 27)"
      ]
     },
     "execution_count": 8,
     "metadata": {},
     "output_type": "execute_result"
    }
   ],
   "source": [
    "dat.shape"
   ]
  },
  {
   "cell_type": "code",
   "execution_count": 9,
   "metadata": {
    "collapsed": true
   },
   "outputs": [],
   "source": [
    "trunc = dat.ix[1:1000,:]"
   ]
  },
  {
   "cell_type": "code",
   "execution_count": 10,
   "metadata": {
    "collapsed": false
   },
   "outputs": [],
   "source": [
    "hotel = pd.merge(trunc , dat1, left_on='srch_destination_id', right_on = 'srch_destination_id')"
   ]
  },
  {
   "cell_type": "code",
   "execution_count": 11,
   "metadata": {
    "collapsed": false,
    "scrolled": true
   },
   "outputs": [
    {
     "data": {
      "text/plain": [
       "(994, 170)"
      ]
     },
     "execution_count": 11,
     "metadata": {},
     "output_type": "execute_result"
    }
   ],
   "source": [
    "hotel.shape"
   ]
  },
  {
   "cell_type": "code",
   "execution_count": 12,
   "metadata": {
    "collapsed": true
   },
   "outputs": [],
   "source": [
    "hotelF = hotel.dropna(axis=0, how='any')"
   ]
  },
  {
   "cell_type": "code",
   "execution_count": 13,
   "metadata": {
    "collapsed": false
   },
   "outputs": [
    {
     "data": {
      "text/plain": [
       "(745, 170)"
      ]
     },
     "execution_count": 13,
     "metadata": {},
     "output_type": "execute_result"
    }
   ],
   "source": [
    "hotelF.shape"
   ]
  },
  {
   "cell_type": "code",
   "execution_count": 57,
   "metadata": {
    "collapsed": false
   },
   "outputs": [
    {
     "data": {
      "text/plain": [
       "Index(['date_time', 'site_name', 'user_location_country',\n",
       "       'user_location_region', 'user_location_city', 'user_location_latitude',\n",
       "       'user_location_longitude', 'orig_destination_distance', 'user_id',\n",
       "       'is_mobile',\n",
       "       ...\n",
       "       'popular_naturalfeature_volcanoes', 'popular_activity_walking',\n",
       "       'popular_activity_waterskiing', 'popular_naturalfeature_waterfalls',\n",
       "       'popular_attraction_waterparks', 'popular_activity_whalewatching',\n",
       "       'popular_naturalfeature_wildlife', 'popular_activity_windsurfing',\n",
       "       'popular_attraction_wineries', 'popular_attraction_zoo'],\n",
       "      dtype='object', length=170)"
      ]
     },
     "execution_count": 57,
     "metadata": {},
     "output_type": "execute_result"
    }
   ],
   "source": [
    "hotelF.columns"
   ]
  },
  {
   "cell_type": "code",
   "execution_count": null,
   "metadata": {
    "collapsed": true
   },
   "outputs": [],
   "source": []
  },
  {
   "cell_type": "code",
   "execution_count": null,
   "metadata": {
    "collapsed": true
   },
   "outputs": [],
   "source": []
  },
  {
   "cell_type": "code",
   "execution_count": 58,
   "metadata": {
    "collapsed": true
   },
   "outputs": [],
   "source": []
  },
  {
   "cell_type": "code",
   "execution_count": null,
   "metadata": {
    "collapsed": true
   },
   "outputs": [],
   "source": []
  },
  {
   "cell_type": "code",
   "execution_count": null,
   "metadata": {
    "collapsed": true
   },
   "outputs": [],
   "source": []
  },
  {
   "cell_type": "code",
   "execution_count": 26,
   "metadata": {
    "collapsed": false
   },
   "outputs": [],
   "source": [
    "user = hotelF[['user_id','user_location_latitude','user_location_longitude','is_mobile','is_package','channel','srch_adults_cnt','srch_children_cnt']]"
   ]
  },
  {
   "cell_type": "code",
   "execution_count": 27,
   "metadata": {
    "collapsed": false
   },
   "outputs": [],
   "source": [
    "user_temp=user.groupby(['user_id'])['user_location_latitude','user_location_longitude','is_mobile','is_package','channel','srch_adults_cnt','srch_children_cnt'].agg(lambda x: x.value_counts().index[0]).reset_index()"
   ]
  },
  {
   "cell_type": "code",
   "execution_count": 28,
   "metadata": {
    "collapsed": true
   },
   "outputs": [],
   "source": [
    "dummies = pd.get_dummies(user_temp['channel']).rename(columns=lambda x: 'Ctgc_' + str(x))\n",
    "user_temp = pd.concat([user_temp, dummies], axis=1)\n"
   ]
  },
  {
   "cell_type": "code",
   "execution_count": 29,
   "metadata": {
    "collapsed": true
   },
   "outputs": [],
   "source": [
    "user_temp.drop(['channel'], inplace=True, axis=1)"
   ]
  },
  {
   "cell_type": "code",
   "execution_count": 41,
   "metadata": {
    "collapsed": false
   },
   "outputs": [],
   "source": [
    "namelist= list(user_temp[\"user_id\"])"
   ]
  },
  {
   "cell_type": "code",
   "execution_count": 31,
   "metadata": {
    "collapsed": true
   },
   "outputs": [],
   "source": [
    "user_temp1 = user_temp.ix[:,2:]"
   ]
  },
  {
   "cell_type": "code",
   "execution_count": 32,
   "metadata": {
    "collapsed": true
   },
   "outputs": [],
   "source": [
    "mu = user_temp1.mean()"
   ]
  },
  {
   "cell_type": "code",
   "execution_count": 33,
   "metadata": {
    "collapsed": false
   },
   "outputs": [],
   "source": [
    "user_temp1_ad = (user_temp1.as_matrix() - mu[:,None].transpose())"
   ]
  },
  {
   "cell_type": "code",
   "execution_count": 34,
   "metadata": {
    "collapsed": true
   },
   "outputs": [],
   "source": [
    "import sklearn.metrics.pairwise"
   ]
  },
  {
   "cell_type": "code",
   "execution_count": 35,
   "metadata": {
    "collapsed": false
   },
   "outputs": [],
   "source": [
    "result = sklearn.metrics.pairwise.cosine_similarity(user_temp1_ad, Y=None, dense_output=True)"
   ]
  },
  {
   "cell_type": "code",
   "execution_count": 36,
   "metadata": {
    "collapsed": true
   },
   "outputs": [],
   "source": [
    "##namelist and result"
   ]
  },
  {
   "cell_type": "code",
   "execution_count": null,
   "metadata": {
    "collapsed": true
   },
   "outputs": [],
   "source": []
  },
  {
   "cell_type": "code",
   "execution_count": 22,
   "metadata": {
    "collapsed": false
   },
   "outputs": [],
   "source": [
    "indexlist = hotelF.groupby(['hotel_id','user_id'])['hotel_id','user_id']"
   ]
  },
  {
   "cell_type": "code",
   "execution_count": 23,
   "metadata": {
    "collapsed": false
   },
   "outputs": [
    {
     "data": {
      "text/html": [
       "<div>\n",
       "<table border=\"1\" class=\"dataframe\">\n",
       "  <thead>\n",
       "    <tr style=\"text-align: right;\">\n",
       "      <th></th>\n",
       "      <th>hotel_id</th>\n",
       "      <th>user_id</th>\n",
       "    </tr>\n",
       "  </thead>\n",
       "  <tbody>\n",
       "    <tr>\n",
       "      <th>0</th>\n",
       "      <td>133800525</td>\n",
       "      <td>-2147479371</td>\n",
       "    </tr>\n",
       "    <tr>\n",
       "      <th>1</th>\n",
       "      <td>439889</td>\n",
       "      <td>-2147479371</td>\n",
       "    </tr>\n",
       "    <tr>\n",
       "      <th>2</th>\n",
       "      <td>41796865</td>\n",
       "      <td>-2147479371</td>\n",
       "    </tr>\n",
       "    <tr>\n",
       "      <th>3</th>\n",
       "      <td>363054980</td>\n",
       "      <td>-2147479371</td>\n",
       "    </tr>\n",
       "    <tr>\n",
       "      <th>10</th>\n",
       "      <td>13523873</td>\n",
       "      <td>-2140855089</td>\n",
       "    </tr>\n",
       "    <tr>\n",
       "      <th>11</th>\n",
       "      <td>172629172</td>\n",
       "      <td>-2139748963</td>\n",
       "    </tr>\n",
       "    <tr>\n",
       "      <th>12</th>\n",
       "      <td>127643119</td>\n",
       "      <td>-2147476571</td>\n",
       "    </tr>\n",
       "    <tr>\n",
       "      <th>13</th>\n",
       "      <td>24451838</td>\n",
       "      <td>-2147476571</td>\n",
       "    </tr>\n",
       "    <tr>\n",
       "      <th>14</th>\n",
       "      <td>312727</td>\n",
       "      <td>-2147476571</td>\n",
       "    </tr>\n",
       "    <tr>\n",
       "      <th>15</th>\n",
       "      <td>1986541</td>\n",
       "      <td>-2147476571</td>\n",
       "    </tr>\n",
       "    <tr>\n",
       "      <th>16</th>\n",
       "      <td>343076</td>\n",
       "      <td>-2147471748</td>\n",
       "    </tr>\n",
       "    <tr>\n",
       "      <th>17</th>\n",
       "      <td>93272923</td>\n",
       "      <td>-2141589048</td>\n",
       "    </tr>\n",
       "    <tr>\n",
       "      <th>18</th>\n",
       "      <td>16702706</td>\n",
       "      <td>-2147412448</td>\n",
       "    </tr>\n",
       "    <tr>\n",
       "      <th>19</th>\n",
       "      <td>36907142</td>\n",
       "      <td>-2146426823</td>\n",
       "    </tr>\n",
       "    <tr>\n",
       "      <th>20</th>\n",
       "      <td>13072575</td>\n",
       "      <td>-2144800148</td>\n",
       "    </tr>\n",
       "    <tr>\n",
       "      <th>21</th>\n",
       "      <td>179642798</td>\n",
       "      <td>-2144800148</td>\n",
       "    </tr>\n",
       "    <tr>\n",
       "      <th>22</th>\n",
       "      <td>263158</td>\n",
       "      <td>-2144486298</td>\n",
       "    </tr>\n",
       "    <tr>\n",
       "      <th>23</th>\n",
       "      <td>1264365</td>\n",
       "      <td>-2143860371</td>\n",
       "    </tr>\n",
       "    <tr>\n",
       "      <th>24</th>\n",
       "      <td>1264365</td>\n",
       "      <td>-2143860371</td>\n",
       "    </tr>\n",
       "    <tr>\n",
       "      <th>25</th>\n",
       "      <td>13067212</td>\n",
       "      <td>-2143860371</td>\n",
       "    </tr>\n",
       "    <tr>\n",
       "      <th>26</th>\n",
       "      <td>209931</td>\n",
       "      <td>-2142759803</td>\n",
       "    </tr>\n",
       "    <tr>\n",
       "      <th>27</th>\n",
       "      <td>167631817</td>\n",
       "      <td>-2142759803</td>\n",
       "    </tr>\n",
       "    <tr>\n",
       "      <th>28</th>\n",
       "      <td>1285755</td>\n",
       "      <td>-2142759803</td>\n",
       "    </tr>\n",
       "    <tr>\n",
       "      <th>29</th>\n",
       "      <td>142598108</td>\n",
       "      <td>-2141900948</td>\n",
       "    </tr>\n",
       "    <tr>\n",
       "      <th>30</th>\n",
       "      <td>142598108</td>\n",
       "      <td>-2141900948</td>\n",
       "    </tr>\n",
       "    <tr>\n",
       "      <th>31</th>\n",
       "      <td>17959384</td>\n",
       "      <td>-2141625992</td>\n",
       "    </tr>\n",
       "    <tr>\n",
       "      <th>32</th>\n",
       "      <td>18068318</td>\n",
       "      <td>-2141298350</td>\n",
       "    </tr>\n",
       "    <tr>\n",
       "      <th>33</th>\n",
       "      <td>356258199</td>\n",
       "      <td>-2140403757</td>\n",
       "    </tr>\n",
       "    <tr>\n",
       "      <th>34</th>\n",
       "      <td>8789119</td>\n",
       "      <td>-2139749733</td>\n",
       "    </tr>\n",
       "    <tr>\n",
       "      <th>35</th>\n",
       "      <td>200724</td>\n",
       "      <td>-2139749733</td>\n",
       "    </tr>\n",
       "    <tr>\n",
       "      <th>...</th>\n",
       "      <td>...</td>\n",
       "      <td>...</td>\n",
       "    </tr>\n",
       "    <tr>\n",
       "      <th>956</th>\n",
       "      <td>10150794</td>\n",
       "      <td>-2139290400</td>\n",
       "    </tr>\n",
       "    <tr>\n",
       "      <th>958</th>\n",
       "      <td>68285993</td>\n",
       "      <td>-2139274475</td>\n",
       "    </tr>\n",
       "    <tr>\n",
       "      <th>959</th>\n",
       "      <td>49633076</td>\n",
       "      <td>-2139274475</td>\n",
       "    </tr>\n",
       "    <tr>\n",
       "      <th>965</th>\n",
       "      <td>780052</td>\n",
       "      <td>-2139168754</td>\n",
       "    </tr>\n",
       "    <tr>\n",
       "      <th>966</th>\n",
       "      <td>6221978</td>\n",
       "      <td>-2139123212</td>\n",
       "    </tr>\n",
       "    <tr>\n",
       "      <th>967</th>\n",
       "      <td>301302143</td>\n",
       "      <td>-2139064979</td>\n",
       "    </tr>\n",
       "    <tr>\n",
       "      <th>968</th>\n",
       "      <td>151355856</td>\n",
       "      <td>-2139063628</td>\n",
       "    </tr>\n",
       "    <tr>\n",
       "      <th>969</th>\n",
       "      <td>27266824</td>\n",
       "      <td>-2139063628</td>\n",
       "    </tr>\n",
       "    <tr>\n",
       "      <th>970</th>\n",
       "      <td>428698</td>\n",
       "      <td>-2139063628</td>\n",
       "    </tr>\n",
       "    <tr>\n",
       "      <th>971</th>\n",
       "      <td>236870</td>\n",
       "      <td>-2139046709</td>\n",
       "    </tr>\n",
       "    <tr>\n",
       "      <th>972</th>\n",
       "      <td>157386</td>\n",
       "      <td>-2139046709</td>\n",
       "    </tr>\n",
       "    <tr>\n",
       "      <th>973</th>\n",
       "      <td>29959174</td>\n",
       "      <td>-2138953203</td>\n",
       "    </tr>\n",
       "    <tr>\n",
       "      <th>974</th>\n",
       "      <td>445686</td>\n",
       "      <td>-2138943830</td>\n",
       "    </tr>\n",
       "    <tr>\n",
       "      <th>975</th>\n",
       "      <td>545196</td>\n",
       "      <td>-2138938566</td>\n",
       "    </tr>\n",
       "    <tr>\n",
       "      <th>976</th>\n",
       "      <td>97184</td>\n",
       "      <td>-2138917748</td>\n",
       "    </tr>\n",
       "    <tr>\n",
       "      <th>977</th>\n",
       "      <td>14273639</td>\n",
       "      <td>-2138894984</td>\n",
       "    </tr>\n",
       "    <tr>\n",
       "      <th>980</th>\n",
       "      <td>356127</td>\n",
       "      <td>-2138860943</td>\n",
       "    </tr>\n",
       "    <tr>\n",
       "      <th>981</th>\n",
       "      <td>251687108</td>\n",
       "      <td>-2138853103</td>\n",
       "    </tr>\n",
       "    <tr>\n",
       "      <th>982</th>\n",
       "      <td>2229612</td>\n",
       "      <td>-2138829226</td>\n",
       "    </tr>\n",
       "    <tr>\n",
       "      <th>983</th>\n",
       "      <td>16092688</td>\n",
       "      <td>-2138829226</td>\n",
       "    </tr>\n",
       "    <tr>\n",
       "      <th>984</th>\n",
       "      <td>183457</td>\n",
       "      <td>-2138823143</td>\n",
       "    </tr>\n",
       "    <tr>\n",
       "      <th>985</th>\n",
       "      <td>1078706</td>\n",
       "      <td>-2138823143</td>\n",
       "    </tr>\n",
       "    <tr>\n",
       "      <th>986</th>\n",
       "      <td>50724710</td>\n",
       "      <td>-2138788605</td>\n",
       "    </tr>\n",
       "    <tr>\n",
       "      <th>987</th>\n",
       "      <td>398667377</td>\n",
       "      <td>-2138788605</td>\n",
       "    </tr>\n",
       "    <tr>\n",
       "      <th>988</th>\n",
       "      <td>127497264</td>\n",
       "      <td>-2138788605</td>\n",
       "    </tr>\n",
       "    <tr>\n",
       "      <th>989</th>\n",
       "      <td>196871513</td>\n",
       "      <td>-2138788605</td>\n",
       "    </tr>\n",
       "    <tr>\n",
       "      <th>990</th>\n",
       "      <td>119614646</td>\n",
       "      <td>-2138788605</td>\n",
       "    </tr>\n",
       "    <tr>\n",
       "      <th>991</th>\n",
       "      <td>259972819</td>\n",
       "      <td>-2138788605</td>\n",
       "    </tr>\n",
       "    <tr>\n",
       "      <th>992</th>\n",
       "      <td>304708237</td>\n",
       "      <td>-2138737806</td>\n",
       "    </tr>\n",
       "    <tr>\n",
       "      <th>993</th>\n",
       "      <td>43606583</td>\n",
       "      <td>-2138737806</td>\n",
       "    </tr>\n",
       "  </tbody>\n",
       "</table>\n",
       "<p>745 rows × 2 columns</p>\n",
       "</div>"
      ],
      "text/plain": [
       "      hotel_id     user_id\n",
       "0    133800525 -2147479371\n",
       "1       439889 -2147479371\n",
       "2     41796865 -2147479371\n",
       "3    363054980 -2147479371\n",
       "10    13523873 -2140855089\n",
       "11   172629172 -2139748963\n",
       "12   127643119 -2147476571\n",
       "13    24451838 -2147476571\n",
       "14      312727 -2147476571\n",
       "15     1986541 -2147476571\n",
       "16      343076 -2147471748\n",
       "17    93272923 -2141589048\n",
       "18    16702706 -2147412448\n",
       "19    36907142 -2146426823\n",
       "20    13072575 -2144800148\n",
       "21   179642798 -2144800148\n",
       "22      263158 -2144486298\n",
       "23     1264365 -2143860371\n",
       "24     1264365 -2143860371\n",
       "25    13067212 -2143860371\n",
       "26      209931 -2142759803\n",
       "27   167631817 -2142759803\n",
       "28     1285755 -2142759803\n",
       "29   142598108 -2141900948\n",
       "30   142598108 -2141900948\n",
       "31    17959384 -2141625992\n",
       "32    18068318 -2141298350\n",
       "33   356258199 -2140403757\n",
       "34     8789119 -2139749733\n",
       "35      200724 -2139749733\n",
       "..         ...         ...\n",
       "956   10150794 -2139290400\n",
       "958   68285993 -2139274475\n",
       "959   49633076 -2139274475\n",
       "965     780052 -2139168754\n",
       "966    6221978 -2139123212\n",
       "967  301302143 -2139064979\n",
       "968  151355856 -2139063628\n",
       "969   27266824 -2139063628\n",
       "970     428698 -2139063628\n",
       "971     236870 -2139046709\n",
       "972     157386 -2139046709\n",
       "973   29959174 -2138953203\n",
       "974     445686 -2138943830\n",
       "975     545196 -2138938566\n",
       "976      97184 -2138917748\n",
       "977   14273639 -2138894984\n",
       "980     356127 -2138860943\n",
       "981  251687108 -2138853103\n",
       "982    2229612 -2138829226\n",
       "983   16092688 -2138829226\n",
       "984     183457 -2138823143\n",
       "985    1078706 -2138823143\n",
       "986   50724710 -2138788605\n",
       "987  398667377 -2138788605\n",
       "988  127497264 -2138788605\n",
       "989  196871513 -2138788605\n",
       "990  119614646 -2138788605\n",
       "991  259972819 -2138788605\n",
       "992  304708237 -2138737806\n",
       "993   43606583 -2138737806\n",
       "\n",
       "[745 rows x 2 columns]"
      ]
     },
     "execution_count": 23,
     "metadata": {},
     "output_type": "execute_result"
    }
   ],
   "source": [
    "indexlist.head()"
   ]
  }
 ],
 "metadata": {
  "kernelspec": {
   "display_name": "Python 3",
   "language": "python",
   "name": "python3"
  },
  "language_info": {
   "codemirror_mode": {
    "name": "ipython",
    "version": 3
   },
   "file_extension": ".py",
   "mimetype": "text/x-python",
   "name": "python",
   "nbconvert_exporter": "python",
   "pygments_lexer": "ipython3",
   "version": "3.5.1"
  }
 },
 "nbformat": 4,
 "nbformat_minor": 0
}
