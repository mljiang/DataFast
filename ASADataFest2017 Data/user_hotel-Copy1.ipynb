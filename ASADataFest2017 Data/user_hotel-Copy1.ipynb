{
 "cells": [
  {
   "cell_type": "code",
   "execution_count": 1,
   "metadata": {
    "collapsed": false
   },
   "outputs": [],
   "source": [
    "import numpy as np\n",
    "import pandas as pd\n",
    "import sklearn.metrics.pairwise\n",
    "import numba\n",
    "from numba import jit\n",
    "import matplotlib.pyplot as plt"
   ]
  },
  {
   "cell_type": "code",
   "execution_count": 2,
   "metadata": {
    "collapsed": false
   },
   "outputs": [],
   "source": [
    "dat = pd.read_csv(\"data.txt\", sep= \"\\t\")"
   ]
  },
  {
   "cell_type": "code",
   "execution_count": 3,
   "metadata": {
    "collapsed": true
   },
   "outputs": [],
   "source": [
    "dat1 = pd.read_csv(\"dest.txt\", sep ='\\t')"
   ]
  },
  {
   "cell_type": "code",
   "execution_count": 4,
   "metadata": {
    "collapsed": false,
    "scrolled": true
   },
   "outputs": [
    {
     "data": {
      "text/plain": [
       "(36407, 144)"
      ]
     },
     "execution_count": 4,
     "metadata": {},
     "output_type": "execute_result"
    }
   ],
   "source": [
    "dat1.shape"
   ]
  },
  {
   "cell_type": "code",
   "execution_count": 5,
   "metadata": {
    "collapsed": true
   },
   "outputs": [],
   "source": [
    "dat = dat.dropna(axis=0, how='any')\n",
    "dat1 = dat1.dropna(axis=0, how='any')"
   ]
  },
  {
   "cell_type": "code",
   "execution_count": 6,
   "metadata": {
    "collapsed": false,
    "scrolled": true
   },
   "outputs": [
    {
     "name": "stderr",
     "output_type": "stream",
     "text": [
      "//anaconda/lib/python3.5/site-packages/ipykernel/__main__.py:1: FutureWarning: sort(columns=....) is deprecated, use sort_values(by=.....)\n",
      "  if __name__ == '__main__':\n"
     ]
    }
   ],
   "source": [
    "user_list = dat.groupby([\"user_id\"]).count().reset_index().sort(['cnt'], ascending=[0])"
   ]
  },
  {
   "cell_type": "code",
   "execution_count": 147,
   "metadata": {
    "collapsed": true
   },
   "outputs": [],
   "source": [
    "userlistname = pd.DataFrame(user_list['user_id'][1:1000])"
   ]
  },
  {
   "cell_type": "code",
   "execution_count": 148,
   "metadata": {
    "collapsed": false
   },
   "outputs": [],
   "source": [
    "user = pd.merge(userlistname, dat, left_on = \"user_id\", right_on = 'user_id')"
   ]
  },
  {
   "cell_type": "code",
   "execution_count": 149,
   "metadata": {
    "collapsed": false
   },
   "outputs": [
    {
     "name": "stderr",
     "output_type": "stream",
     "text": [
      "//anaconda/lib/python3.5/site-packages/ipykernel/__main__.py:1: FutureWarning: sort(columns=....) is deprecated, use sort_values(by=.....)\n",
      "  if __name__ == '__main__':\n"
     ]
    }
   ],
   "source": [
    "hotel_list = dat.groupby([\"hotel_id\"]).count().reset_index().sort(['cnt'], ascending=[0])"
   ]
  },
  {
   "cell_type": "code",
   "execution_count": 150,
   "metadata": {
    "collapsed": true
   },
   "outputs": [],
   "source": [
    "hotellistname = pd.DataFrame(hotel_list['hotel_id'][1:30])"
   ]
  },
  {
   "cell_type": "code",
   "execution_count": 151,
   "metadata": {
    "collapsed": true
   },
   "outputs": [],
   "source": [
    "hotel1 = pd.merge(hotellistname, dat, left_on = \"hotel_id\", right_on = 'hotel_id')"
   ]
  },
  {
   "cell_type": "code",
   "execution_count": 152,
   "metadata": {
    "collapsed": true
   },
   "outputs": [],
   "source": [
    "hotelF = pd.merge(hotel1, dat1, left_on = 'srch_destination_id', right_on = 'srch_destination_id')"
   ]
  },
  {
   "cell_type": "code",
   "execution_count": null,
   "metadata": {
    "collapsed": true
   },
   "outputs": [],
   "source": []
  },
  {
   "cell_type": "code",
   "execution_count": null,
   "metadata": {
    "collapsed": true
   },
   "outputs": [],
   "source": []
  },
  {
   "cell_type": "code",
   "execution_count": 153,
   "metadata": {
    "collapsed": true
   },
   "outputs": [],
   "source": [
    "#User Data"
   ]
  },
  {
   "cell_type": "code",
   "execution_count": 154,
   "metadata": {
    "collapsed": false
   },
   "outputs": [],
   "source": [
    "user = user[['user_id','user_location_latitude','user_location_longitude','is_mobile','is_package','channel','srch_adults_cnt','srch_children_cnt']]"
   ]
  },
  {
   "cell_type": "code",
   "execution_count": 155,
   "metadata": {
    "collapsed": false
   },
   "outputs": [],
   "source": [
    "user_temp=user.groupby(['user_id'])['user_location_latitude','user_location_longitude','is_mobile','is_package','channel','srch_adults_cnt','srch_children_cnt'].agg(lambda x: x.value_counts().index[0]).reset_index()"
   ]
  },
  {
   "cell_type": "code",
   "execution_count": 156,
   "metadata": {
    "collapsed": true
   },
   "outputs": [],
   "source": [
    "dummies = pd.get_dummies(user_temp['channel']).rename(columns=lambda x: 'Ctgc_' + str(x))\n",
    "user_temp = pd.concat([user_temp, dummies], axis=1)\n"
   ]
  },
  {
   "cell_type": "code",
   "execution_count": 157,
   "metadata": {
    "collapsed": true
   },
   "outputs": [],
   "source": [
    "user_temp.drop(['channel'], inplace=True, axis=1)"
   ]
  },
  {
   "cell_type": "code",
   "execution_count": 166,
   "metadata": {
    "collapsed": true
   },
   "outputs": [],
   "source": [
    "weight_vector=[10,10,8,9,8,8] + [1]*9\n",
    "#weight_vector=[0.01,0.01,0.01,0.01,0.01,0.01] + [10]*11"
   ]
  },
  {
   "cell_type": "code",
   "execution_count": 167,
   "metadata": {
    "collapsed": false
   },
   "outputs": [
    {
     "data": {
      "text/plain": [
       "(999, 16)"
      ]
     },
     "execution_count": 167,
     "metadata": {},
     "output_type": "execute_result"
    }
   ],
   "source": [
    "user_temp.shape"
   ]
  },
  {
   "cell_type": "code",
   "execution_count": 168,
   "metadata": {
    "collapsed": false
   },
   "outputs": [],
   "source": [
    "namelist= list(user_temp[\"user_id\"])"
   ]
  },
  {
   "cell_type": "code",
   "execution_count": 169,
   "metadata": {
    "collapsed": false
   },
   "outputs": [],
   "source": [
    "user_temp1 = user_temp.ix[:,1:]"
   ]
  },
  {
   "cell_type": "code",
   "execution_count": 170,
   "metadata": {
    "collapsed": false
   },
   "outputs": [
    {
     "data": {
      "text/plain": [
       "15"
      ]
     },
     "execution_count": 170,
     "metadata": {},
     "output_type": "execute_result"
    }
   ],
   "source": [
    "len(weight_vector)"
   ]
  },
  {
   "cell_type": "code",
   "execution_count": 171,
   "metadata": {
    "collapsed": false
   },
   "outputs": [],
   "source": [
    "user_temp1 = user_temp1*weight_vector"
   ]
  },
  {
   "cell_type": "code",
   "execution_count": 172,
   "metadata": {
    "collapsed": true
   },
   "outputs": [],
   "source": [
    "mu = user_temp1.mean()\n",
    "std = user_temp1.std()"
   ]
  },
  {
   "cell_type": "code",
   "execution_count": 173,
   "metadata": {
    "collapsed": false
   },
   "outputs": [],
   "source": [
    "user_temp1_ad = (user_temp1.as_matrix() - mu[:,None].transpose())/(std[:,None].transpose()+1e-6)"
   ]
  },
  {
   "cell_type": "code",
   "execution_count": 174,
   "metadata": {
    "collapsed": false
   },
   "outputs": [],
   "source": [
    "result = sklearn.metrics.pairwise.cosine_similarity(user_temp1_ad, Y=None, dense_output=True)"
   ]
  },
  {
   "cell_type": "code",
   "execution_count": 175,
   "metadata": {
    "collapsed": false
   },
   "outputs": [
    {
     "data": {
      "text/plain": [
       "array([[ 1.        , -0.42233327, -0.49071905, ...,  0.5396395 ,\n",
       "        -0.30390842, -0.11682016],\n",
       "       [-0.42233327,  1.        , -0.11060034, ..., -0.36640496,\n",
       "        -0.14383415, -0.1872887 ],\n",
       "       [-0.49071905, -0.11060034,  1.        , ..., -0.55007669,\n",
       "         0.47236392,  0.21123623],\n",
       "       ..., \n",
       "       [ 0.5396395 , -0.36640496, -0.55007669, ...,  1.        ,\n",
       "         0.13371792, -0.09016782],\n",
       "       [-0.30390842, -0.14383415,  0.47236392, ...,  0.13371792,\n",
       "         1.        , -0.39914863],\n",
       "       [-0.11682016, -0.1872887 ,  0.21123623, ..., -0.09016782,\n",
       "        -0.39914863,  1.        ]])"
      ]
     },
     "execution_count": 175,
     "metadata": {},
     "output_type": "execute_result"
    }
   ],
   "source": [
    "result"
   ]
  },
  {
   "cell_type": "code",
   "execution_count": 176,
   "metadata": {
    "collapsed": true
   },
   "outputs": [],
   "source": [
    "result = (result+1)/2"
   ]
  },
  {
   "cell_type": "code",
   "execution_count": 177,
   "metadata": {
    "collapsed": false
   },
   "outputs": [
    {
     "data": {
      "text/plain": [
       "array([[ 1.        ,  0.28883337,  0.25464048, ...,  0.76981975,\n",
       "         0.34804579,  0.44158992],\n",
       "       [ 0.28883337,  1.        ,  0.44469983, ...,  0.31679752,\n",
       "         0.42808292,  0.40635565],\n",
       "       [ 0.25464048,  0.44469983,  1.        , ...,  0.22496165,\n",
       "         0.73618196,  0.60561812],\n",
       "       ..., \n",
       "       [ 0.76981975,  0.31679752,  0.22496165, ...,  1.        ,\n",
       "         0.56685896,  0.45491609],\n",
       "       [ 0.34804579,  0.42808292,  0.73618196, ...,  0.56685896,\n",
       "         1.        ,  0.30042568],\n",
       "       [ 0.44158992,  0.40635565,  0.60561812, ...,  0.45491609,\n",
       "         0.30042568,  1.        ]])"
      ]
     },
     "execution_count": 177,
     "metadata": {},
     "output_type": "execute_result"
    }
   ],
   "source": [
    "result"
   ]
  },
  {
   "cell_type": "code",
   "execution_count": 178,
   "metadata": {
    "collapsed": true
   },
   "outputs": [],
   "source": [
    "#Hotel Data"
   ]
  },
  {
   "cell_type": "code",
   "execution_count": 179,
   "metadata": {
    "collapsed": true
   },
   "outputs": [],
   "source": [
    "hotel1 = hotelF[hotelF.columns[[0,21,22,24,25]]]"
   ]
  },
  {
   "cell_type": "code",
   "execution_count": 180,
   "metadata": {
    "collapsed": true
   },
   "outputs": [],
   "source": [
    "hotel2 = hotelF[hotelF.columns[28:170]]"
   ]
  },
  {
   "cell_type": "code",
   "execution_count": 181,
   "metadata": {
    "collapsed": true
   },
   "outputs": [],
   "source": [
    "hotel_att = pd.concat([hotel1, hotel2], axis=1)"
   ]
  },
  {
   "cell_type": "code",
   "execution_count": 182,
   "metadata": {
    "collapsed": true
   },
   "outputs": [],
   "source": [
    "df_hist = pd.get_dummies(hotel_att['hist_price_band'])"
   ]
  },
  {
   "cell_type": "code",
   "execution_count": 183,
   "metadata": {
    "collapsed": true
   },
   "outputs": [],
   "source": [
    "df_pop = pd.get_dummies(hotel_att['popularity_band'])"
   ]
  },
  {
   "cell_type": "code",
   "execution_count": 184,
   "metadata": {
    "collapsed": true
   },
   "outputs": [],
   "source": [
    "hotel_att1 = pd.concat([hotel_att, df_hist,df_pop], axis=1)"
   ]
  },
  {
   "cell_type": "code",
   "execution_count": 185,
   "metadata": {
    "collapsed": true
   },
   "outputs": [],
   "source": [
    "hotel_att1 = hotel_att1.drop(hotel_att1.columns[[3, 4]], axis=1)"
   ]
  },
  {
   "cell_type": "code",
   "execution_count": 186,
   "metadata": {
    "collapsed": true
   },
   "outputs": [],
   "source": [
    "hotel_att2 = hotel_att1.groupby(['hotel_id']).mean()"
   ]
  },
  {
   "cell_type": "code",
   "execution_count": 187,
   "metadata": {
    "collapsed": false
   },
   "outputs": [],
   "source": [
    "M = hotel_att2.as_matrix()\n",
    "M_u = hotel_att2.mean()\n",
    "std_u = hotel_att2.std() \n",
    "#M_std = hotel_att2.std()\n",
    "item_mean_subtracted = (M - M_u[:, None].transpose())/std_u[:,None].transpose()\n"
   ]
  },
  {
   "cell_type": "code",
   "execution_count": 188,
   "metadata": {
    "collapsed": true
   },
   "outputs": [],
   "source": [
    "hotel_result = sklearn.metrics.pairwise.cosine_similarity(item_mean_subtracted, Y=None, dense_output=True)"
   ]
  },
  {
   "cell_type": "code",
   "execution_count": 189,
   "metadata": {
    "collapsed": true
   },
   "outputs": [],
   "source": [
    "hotel_weight = (hotel_result+1)/2"
   ]
  },
  {
   "cell_type": "code",
   "execution_count": 190,
   "metadata": {
    "collapsed": true
   },
   "outputs": [],
   "source": [
    "L = list(hotel_att2.index)"
   ]
  },
  {
   "cell_type": "code",
   "execution_count": 191,
   "metadata": {
    "collapsed": true
   },
   "outputs": [],
   "source": [
    "def hotel_search(a,b):\n",
    "    idx_a = L.index(a)\n",
    "    idx_b = L.index(b)\n",
    "    return(hotel_weight[idx_a,idx_b])"
   ]
  },
  {
   "cell_type": "code",
   "execution_count": 192,
   "metadata": {
    "collapsed": true
   },
   "outputs": [],
   "source": [
    "def user_search(a,b):\n",
    "    idx_a = namelist.index(a)\n",
    "    idx_b = namelist.index(b)\n",
    "    return(result[idx_a,idx_b])"
   ]
  },
  {
   "cell_type": "code",
   "execution_count": 193,
   "metadata": {
    "collapsed": true
   },
   "outputs": [],
   "source": [
    "grouped=hotelF.groupby(['user_id','hotel_id'])\n",
    "df=grouped[['is_booking','cnt']].agg(['sum'])"
   ]
  },
  {
   "cell_type": "code",
   "execution_count": 194,
   "metadata": {
    "collapsed": true
   },
   "outputs": [],
   "source": [
    "grouped_1=hotelF.groupby(['user_id'])\n",
    "df_1=grouped_1[['hotel_id']].agg('count')"
   ]
  },
  {
   "cell_type": "code",
   "execution_count": 195,
   "metadata": {
    "collapsed": false
   },
   "outputs": [
    {
     "data": {
      "text/plain": [
       "4.633235281699061"
      ]
     },
     "execution_count": 195,
     "metadata": {},
     "output_type": "execute_result"
    }
   ],
   "source": [
    "np.mean(df_1['hotel_id'])"
   ]
  },
  {
   "cell_type": "code",
   "execution_count": null,
   "metadata": {
    "collapsed": true
   },
   "outputs": [],
   "source": []
  },
  {
   "cell_type": "code",
   "execution_count": null,
   "metadata": {
    "collapsed": true
   },
   "outputs": [],
   "source": []
  },
  {
   "cell_type": "code",
   "execution_count": 196,
   "metadata": {
    "collapsed": true
   },
   "outputs": [],
   "source": [
    "grouped1=hotelF.groupby(['hotel_id','user_id'])\n",
    "df2=grouped1[['is_booking','cnt']].agg(['sum'])"
   ]
  },
  {
   "cell_type": "code",
   "execution_count": 197,
   "metadata": {
    "collapsed": true
   },
   "outputs": [],
   "source": [
    "alpha=0.5\n",
    "beta_beta=2"
   ]
  },
  {
   "cell_type": "code",
   "execution_count": 198,
   "metadata": {
    "collapsed": true
   },
   "outputs": [],
   "source": [
    "df2['score']=(df2['is_booking']+alpha)/(df2['cnt']+alpha+beta_beta)"
   ]
  },
  {
   "cell_type": "code",
   "execution_count": 199,
   "metadata": {
    "collapsed": true
   },
   "outputs": [],
   "source": [
    "df2.drop('is_booking',axis=1,inplace=True)"
   ]
  },
  {
   "cell_type": "code",
   "execution_count": 200,
   "metadata": {
    "collapsed": true
   },
   "outputs": [],
   "source": [
    "df2.drop('cnt',axis=1,inplace=True)"
   ]
  },
  {
   "cell_type": "code",
   "execution_count": 201,
   "metadata": {
    "collapsed": false
   },
   "outputs": [
    {
     "data": {
      "text/html": [
       "<div>\n",
       "<table border=\"1\" class=\"dataframe\">\n",
       "  <thead>\n",
       "    <tr>\n",
       "      <th></th>\n",
       "      <th></th>\n",
       "      <th>score</th>\n",
       "    </tr>\n",
       "    <tr>\n",
       "      <th></th>\n",
       "      <th></th>\n",
       "      <th></th>\n",
       "    </tr>\n",
       "    <tr>\n",
       "      <th>hotel_id</th>\n",
       "      <th>user_id</th>\n",
       "      <th></th>\n",
       "    </tr>\n",
       "  </thead>\n",
       "  <tbody>\n",
       "    <tr>\n",
       "      <th rowspan=\"5\" valign=\"top\">34595</th>\n",
       "      <th>-2144482888</th>\n",
       "      <td>0.142857</td>\n",
       "    </tr>\n",
       "    <tr>\n",
       "      <th>-2144421001</th>\n",
       "      <td>0.142857</td>\n",
       "    </tr>\n",
       "    <tr>\n",
       "      <th>-2142955859</th>\n",
       "      <td>0.200000</td>\n",
       "    </tr>\n",
       "    <tr>\n",
       "      <th>-2142638206</th>\n",
       "      <td>0.090909</td>\n",
       "    </tr>\n",
       "    <tr>\n",
       "      <th>-2139967335</th>\n",
       "      <td>0.142857</td>\n",
       "    </tr>\n",
       "  </tbody>\n",
       "</table>\n",
       "</div>"
      ],
      "text/plain": [
       "                         score\n",
       "                              \n",
       "hotel_id user_id              \n",
       "34595    -2144482888  0.142857\n",
       "         -2144421001  0.142857\n",
       "         -2142955859  0.200000\n",
       "         -2142638206  0.090909\n",
       "         -2139967335  0.142857"
      ]
     },
     "execution_count": 201,
     "metadata": {},
     "output_type": "execute_result"
    }
   ],
   "source": [
    "df2.head()"
   ]
  },
  {
   "cell_type": "code",
   "execution_count": 202,
   "metadata": {
    "collapsed": false
   },
   "outputs": [],
   "source": [
    "df['score']=(df['is_booking']+alpha)/(df['cnt']+alpha+beta_beta)"
   ]
  },
  {
   "cell_type": "code",
   "execution_count": 203,
   "metadata": {
    "collapsed": false
   },
   "outputs": [],
   "source": [
    "df1=df.copy()"
   ]
  },
  {
   "cell_type": "code",
   "execution_count": 204,
   "metadata": {
    "collapsed": false
   },
   "outputs": [],
   "source": [
    "df1.drop('is_booking',axis=1,inplace=True)"
   ]
  },
  {
   "cell_type": "code",
   "execution_count": 205,
   "metadata": {
    "collapsed": true
   },
   "outputs": [],
   "source": [
    "df1.drop('cnt',axis=1,inplace=True)"
   ]
  },
  {
   "cell_type": "code",
   "execution_count": 206,
   "metadata": {
    "collapsed": false
   },
   "outputs": [
    {
     "data": {
      "text/plain": [
       "(180229, 1)"
      ]
     },
     "execution_count": 206,
     "metadata": {},
     "output_type": "execute_result"
    }
   ],
   "source": [
    "df1.shape"
   ]
  },
  {
   "cell_type": "code",
   "execution_count": 207,
   "metadata": {
    "collapsed": false
   },
   "outputs": [
    {
     "data": {
      "text/plain": [
       "0.1349769191144653"
      ]
     },
     "execution_count": 207,
     "metadata": {},
     "output_type": "execute_result"
    }
   ],
   "source": [
    "np.mean(df1[['score']])[0]"
   ]
  },
  {
   "cell_type": "code",
   "execution_count": 208,
   "metadata": {
    "collapsed": false
   },
   "outputs": [
    {
     "data": {
      "text/html": [
       "<div>\n",
       "<table border=\"1\" class=\"dataframe\">\n",
       "  <thead>\n",
       "    <tr>\n",
       "      <th></th>\n",
       "      <th></th>\n",
       "      <th>score</th>\n",
       "    </tr>\n",
       "    <tr>\n",
       "      <th></th>\n",
       "      <th></th>\n",
       "      <th></th>\n",
       "    </tr>\n",
       "    <tr>\n",
       "      <th>hotel_id</th>\n",
       "      <th>user_id</th>\n",
       "      <th></th>\n",
       "    </tr>\n",
       "  </thead>\n",
       "  <tbody>\n",
       "    <tr>\n",
       "      <th rowspan=\"5\" valign=\"top\">34595</th>\n",
       "      <th>-2144482888</th>\n",
       "      <td>0.142857</td>\n",
       "    </tr>\n",
       "    <tr>\n",
       "      <th>-2144421001</th>\n",
       "      <td>0.142857</td>\n",
       "    </tr>\n",
       "    <tr>\n",
       "      <th>-2142955859</th>\n",
       "      <td>0.200000</td>\n",
       "    </tr>\n",
       "    <tr>\n",
       "      <th>-2142638206</th>\n",
       "      <td>0.090909</td>\n",
       "    </tr>\n",
       "    <tr>\n",
       "      <th>-2139967335</th>\n",
       "      <td>0.142857</td>\n",
       "    </tr>\n",
       "  </tbody>\n",
       "</table>\n",
       "</div>"
      ],
      "text/plain": [
       "                         score\n",
       "                              \n",
       "hotel_id user_id              \n",
       "34595    -2144482888  0.142857\n",
       "         -2144421001  0.142857\n",
       "         -2142955859  0.200000\n",
       "         -2142638206  0.090909\n",
       "         -2139967335  0.142857"
      ]
     },
     "execution_count": 208,
     "metadata": {},
     "output_type": "execute_result"
    }
   ],
   "source": [
    "df2.head()"
   ]
  },
  {
   "cell_type": "code",
   "execution_count": 209,
   "metadata": {
    "collapsed": false
   },
   "outputs": [],
   "source": [
    "for i in range(len(df2)):\n",
    "    if(df1.index[i][0]==-2079780817):\n",
    "    #d2[df2.index[i][0]].append(df2.index[i][1])\n",
    "        print(df1.index[i][1])\n",
    "        print(df1.ix[(df1.index[i][0],df1.index[i][1])]['score'][0])"
   ]
  },
  {
   "cell_type": "code",
   "execution_count": 210,
   "metadata": {
    "collapsed": false
   },
   "outputs": [],
   "source": [
    "for i in range(len(df2)):\n",
    "    if(df1.index[i][0]==-2079777716):\n",
    "    #d2[df2.index[i][0]].append(df2.index[i][1])\n",
    "        print(df1.index[i][1])\n",
    "        print(df1.ix[(df1.index[i][0],df1.index[i][1])]['score'][0])"
   ]
  },
  {
   "cell_type": "code",
   "execution_count": 211,
   "metadata": {
    "collapsed": true
   },
   "outputs": [],
   "source": [
    "L = list(hotel_att2.index)"
   ]
  },
  {
   "cell_type": "code",
   "execution_count": 212,
   "metadata": {
    "collapsed": true
   },
   "outputs": [],
   "source": [
    "from collections import defaultdict\n",
    "d = defaultdict(list)\n",
    "for i in range(len(df1)):\n",
    "    d[df1.index[i][0]].append(df1.index[i][1])"
   ]
  },
  {
   "cell_type": "code",
   "execution_count": 213,
   "metadata": {
    "collapsed": true
   },
   "outputs": [],
   "source": [
    "from collections import defaultdict\n",
    "d2 = defaultdict(list)\n",
    "for i in range(len(df2)):\n",
    "    d2[df2.index[i][0]].append(df2.index[i][1])"
   ]
  },
  {
   "cell_type": "code",
   "execution_count": 214,
   "metadata": {
    "collapsed": false
   },
   "outputs": [
    {
     "data": {
      "text/plain": [
       "0.1349769191144774"
      ]
     },
     "execution_count": 214,
     "metadata": {},
     "output_type": "execute_result"
    }
   ],
   "source": [
    "baseline_score=np.mean(df2[['score']])[0]\n",
    "baseline_score"
   ]
  },
  {
   "cell_type": "code",
   "execution_count": 215,
   "metadata": {
    "collapsed": true
   },
   "outputs": [],
   "source": [
    "baseline_score=np.mean(df2[['score']])[0]\n",
    "def hotel_sim(user_id,hotel_id):\n",
    "    total=0\n",
    "    nor=0\n",
    "    for all_hotel_id in d[user_id]:\n",
    "        if all_hotel_id!=hotel_id:\n",
    "            total+=df1.ix[(user_id,all_hotel_id)]['score'][0]*hotel_search(all_hotel_id,hotel_id)\n",
    "            nor+=hotel_search(all_hotel_id,hotel_id)\n",
    "    total += baseline_score/10\n",
    "    nor += 0.1\n",
    "    if nor ==0:\n",
    "        return total \n",
    "    else:\n",
    "        return total/nor"
   ]
  },
  {
   "cell_type": "code",
   "execution_count": null,
   "metadata": {
    "collapsed": false
   },
   "outputs": [],
   "source": []
  },
  {
   "cell_type": "code",
   "execution_count": 216,
   "metadata": {
    "collapsed": true
   },
   "outputs": [],
   "source": [
    "baseline_score=np.mean(df1[['score']])[0]\n",
    "\n",
    "def user_sim(user_id,hotel_id):\n",
    "    total=0\n",
    "    nor=0\n",
    "    for all_user_id in d2[hotel_id]:\n",
    "        if all_user_id!=user_id:\n",
    "            total+=df2.ix[(hotel_id,all_user_id)]['score'][0]*user_search(all_user_id,user_id)\n",
    "            nor+=user_search(all_user_id,user_id)\n",
    "    total += baseline_score/10\n",
    "    nor += 0.1\n",
    "    \n",
    "    if nor ==0:\n",
    "        return total \n",
    "    else:\n",
    "        return total/nor"
   ]
  },
  {
   "cell_type": "code",
   "execution_count": null,
   "metadata": {
    "collapsed": true
   },
   "outputs": [],
   "source": []
  },
  {
   "cell_type": "code",
   "execution_count": 217,
   "metadata": {
    "collapsed": false
   },
   "outputs": [],
   "source": [
    "\n",
    "s_hat_hotel=[]\n",
    "for i in d.keys():\n",
    "#     if len(d[i]) == 1:\n",
    "#         continue\n",
    "    for ele in d[i]:  \n",
    "        s_hat_hotel.append([i, ele,hotel_sim(i,ele),df1.ix[(i,ele)]['score'][0]])"
   ]
  },
  {
   "cell_type": "code",
   "execution_count": null,
   "metadata": {
    "collapsed": false
   },
   "outputs": [],
   "source": []
  },
  {
   "cell_type": "code",
   "execution_count": 829,
   "metadata": {
    "collapsed": false
   },
   "outputs": [],
   "source": [
    "dfSh=pd.DataFrame(s_hat_hotel, columns=['A', 'B', 'C', 'D'])"
   ]
  },
  {
   "cell_type": "code",
   "execution_count": 830,
   "metadata": {
    "collapsed": false
   },
   "outputs": [
    {
     "data": {
      "text/html": [
       "<div>\n",
       "<table border=\"1\" class=\"dataframe\">\n",
       "  <thead>\n",
       "    <tr style=\"text-align: right;\">\n",
       "      <th></th>\n",
       "      <th>A</th>\n",
       "      <th>B</th>\n",
       "      <th>C</th>\n",
       "      <th>D</th>\n",
       "    </tr>\n",
       "  </thead>\n",
       "  <tbody>\n",
       "    <tr>\n",
       "      <th>0</th>\n",
       "      <td>-2080333824</td>\n",
       "      <td>155154</td>\n",
       "      <td>0.158868</td>\n",
       "      <td>0.142857</td>\n",
       "    </tr>\n",
       "    <tr>\n",
       "      <th>1</th>\n",
       "      <td>-2106785788</td>\n",
       "      <td>729088</td>\n",
       "      <td>0.115750</td>\n",
       "      <td>0.142857</td>\n",
       "    </tr>\n",
       "    <tr>\n",
       "      <th>2</th>\n",
       "      <td>-2106785788</td>\n",
       "      <td>1945528</td>\n",
       "      <td>0.144412</td>\n",
       "      <td>0.111111</td>\n",
       "    </tr>\n",
       "    <tr>\n",
       "      <th>3</th>\n",
       "      <td>-2102370298</td>\n",
       "      <td>156171489</td>\n",
       "      <td>0.158868</td>\n",
       "      <td>0.142857</td>\n",
       "    </tr>\n",
       "    <tr>\n",
       "      <th>4</th>\n",
       "      <td>-2145665013</td>\n",
       "      <td>28288615</td>\n",
       "      <td>0.144313</td>\n",
       "      <td>0.142857</td>\n",
       "    </tr>\n",
       "    <tr>\n",
       "      <th>5</th>\n",
       "      <td>-2145665013</td>\n",
       "      <td>92447052</td>\n",
       "      <td>0.144313</td>\n",
       "      <td>0.142857</td>\n",
       "    </tr>\n",
       "    <tr>\n",
       "      <th>6</th>\n",
       "      <td>-2101084148</td>\n",
       "      <td>111604897</td>\n",
       "      <td>0.144361</td>\n",
       "      <td>0.142857</td>\n",
       "    </tr>\n",
       "    <tr>\n",
       "      <th>7</th>\n",
       "      <td>-2101084148</td>\n",
       "      <td>128901626</td>\n",
       "      <td>0.144361</td>\n",
       "      <td>0.142857</td>\n",
       "    </tr>\n",
       "    <tr>\n",
       "      <th>8</th>\n",
       "      <td>-2139168754</td>\n",
       "      <td>780052</td>\n",
       "      <td>0.158868</td>\n",
       "      <td>0.428571</td>\n",
       "    </tr>\n",
       "    <tr>\n",
       "      <th>9</th>\n",
       "      <td>-2085674948</td>\n",
       "      <td>802651</td>\n",
       "      <td>0.158868</td>\n",
       "      <td>0.111111</td>\n",
       "    </tr>\n",
       "    <tr>\n",
       "      <th>10</th>\n",
       "      <td>-2098405360</td>\n",
       "      <td>211495112</td>\n",
       "      <td>0.158868</td>\n",
       "      <td>0.428571</td>\n",
       "    </tr>\n",
       "    <tr>\n",
       "      <th>11</th>\n",
       "      <td>-2144804846</td>\n",
       "      <td>299397</td>\n",
       "      <td>0.158868</td>\n",
       "      <td>0.111111</td>\n",
       "    </tr>\n",
       "    <tr>\n",
       "      <th>12</th>\n",
       "      <td>-2141282285</td>\n",
       "      <td>14132403</td>\n",
       "      <td>0.158868</td>\n",
       "      <td>0.142857</td>\n",
       "    </tr>\n",
       "    <tr>\n",
       "      <th>13</th>\n",
       "      <td>-2109982598</td>\n",
       "      <td>111103</td>\n",
       "      <td>0.158868</td>\n",
       "      <td>0.142857</td>\n",
       "    </tr>\n",
       "    <tr>\n",
       "      <th>14</th>\n",
       "      <td>-2146181098</td>\n",
       "      <td>146260634</td>\n",
       "      <td>0.158868</td>\n",
       "      <td>0.111111</td>\n",
       "    </tr>\n",
       "    <tr>\n",
       "      <th>15</th>\n",
       "      <td>-2127772327</td>\n",
       "      <td>1342733</td>\n",
       "      <td>0.158868</td>\n",
       "      <td>0.428571</td>\n",
       "    </tr>\n",
       "    <tr>\n",
       "      <th>16</th>\n",
       "      <td>-2100559848</td>\n",
       "      <td>763343</td>\n",
       "      <td>0.158868</td>\n",
       "      <td>0.090909</td>\n",
       "    </tr>\n",
       "    <tr>\n",
       "      <th>17</th>\n",
       "      <td>-2129346529</td>\n",
       "      <td>179272</td>\n",
       "      <td>0.053100</td>\n",
       "      <td>0.142857</td>\n",
       "    </tr>\n",
       "    <tr>\n",
       "      <th>18</th>\n",
       "      <td>-2129346529</td>\n",
       "      <td>1121796</td>\n",
       "      <td>0.144968</td>\n",
       "      <td>0.037037</td>\n",
       "    </tr>\n",
       "    <tr>\n",
       "      <th>19</th>\n",
       "      <td>-2082162511</td>\n",
       "      <td>254506992</td>\n",
       "      <td>0.158868</td>\n",
       "      <td>0.142857</td>\n",
       "    </tr>\n",
       "    <tr>\n",
       "      <th>20</th>\n",
       "      <td>-2088718109</td>\n",
       "      <td>17328689</td>\n",
       "      <td>0.158868</td>\n",
       "      <td>0.142857</td>\n",
       "    </tr>\n",
       "    <tr>\n",
       "      <th>21</th>\n",
       "      <td>-2126901933</td>\n",
       "      <td>16692042</td>\n",
       "      <td>0.158868</td>\n",
       "      <td>0.142857</td>\n",
       "    </tr>\n",
       "    <tr>\n",
       "      <th>22</th>\n",
       "      <td>-2140577749</td>\n",
       "      <td>106329</td>\n",
       "      <td>0.128797</td>\n",
       "      <td>0.142857</td>\n",
       "    </tr>\n",
       "    <tr>\n",
       "      <th>23</th>\n",
       "      <td>-2140577749</td>\n",
       "      <td>496123</td>\n",
       "      <td>0.128593</td>\n",
       "      <td>0.142857</td>\n",
       "    </tr>\n",
       "    <tr>\n",
       "      <th>24</th>\n",
       "      <td>-2140577749</td>\n",
       "      <td>16556014</td>\n",
       "      <td>0.143651</td>\n",
       "      <td>0.111111</td>\n",
       "    </tr>\n",
       "    <tr>\n",
       "      <th>25</th>\n",
       "      <td>-2102894548</td>\n",
       "      <td>657881</td>\n",
       "      <td>0.158868</td>\n",
       "      <td>0.142857</td>\n",
       "    </tr>\n",
       "    <tr>\n",
       "      <th>26</th>\n",
       "      <td>-2134163411</td>\n",
       "      <td>8711929</td>\n",
       "      <td>0.158868</td>\n",
       "      <td>0.142857</td>\n",
       "    </tr>\n",
       "    <tr>\n",
       "      <th>27</th>\n",
       "      <td>-2111291345</td>\n",
       "      <td>715696</td>\n",
       "      <td>0.158868</td>\n",
       "      <td>0.428571</td>\n",
       "    </tr>\n",
       "    <tr>\n",
       "      <th>28</th>\n",
       "      <td>-2140856272</td>\n",
       "      <td>366977</td>\n",
       "      <td>0.122600</td>\n",
       "      <td>0.142857</td>\n",
       "    </tr>\n",
       "    <tr>\n",
       "      <th>29</th>\n",
       "      <td>-2140856272</td>\n",
       "      <td>638785</td>\n",
       "      <td>0.125341</td>\n",
       "      <td>0.142857</td>\n",
       "    </tr>\n",
       "    <tr>\n",
       "      <th>...</th>\n",
       "      <td>...</td>\n",
       "      <td>...</td>\n",
       "      <td>...</td>\n",
       "      <td>...</td>\n",
       "    </tr>\n",
       "    <tr>\n",
       "      <th>7508</th>\n",
       "      <td>-2107121698</td>\n",
       "      <td>66185712</td>\n",
       "      <td>0.158868</td>\n",
       "      <td>0.111111</td>\n",
       "    </tr>\n",
       "    <tr>\n",
       "      <th>7509</th>\n",
       "      <td>-2083381281</td>\n",
       "      <td>295584</td>\n",
       "      <td>0.144373</td>\n",
       "      <td>0.142857</td>\n",
       "    </tr>\n",
       "    <tr>\n",
       "      <th>7510</th>\n",
       "      <td>-2083381281</td>\n",
       "      <td>1547054</td>\n",
       "      <td>0.144373</td>\n",
       "      <td>0.142857</td>\n",
       "    </tr>\n",
       "    <tr>\n",
       "      <th>7511</th>\n",
       "      <td>-2091728928</td>\n",
       "      <td>681379</td>\n",
       "      <td>0.104396</td>\n",
       "      <td>0.142857</td>\n",
       "    </tr>\n",
       "    <tr>\n",
       "      <th>7512</th>\n",
       "      <td>-2091728928</td>\n",
       "      <td>70067532</td>\n",
       "      <td>0.146035</td>\n",
       "      <td>0.090909</td>\n",
       "    </tr>\n",
       "    <tr>\n",
       "      <th>7513</th>\n",
       "      <td>-2098204677</td>\n",
       "      <td>162687</td>\n",
       "      <td>0.143273</td>\n",
       "      <td>0.142857</td>\n",
       "    </tr>\n",
       "    <tr>\n",
       "      <th>7514</th>\n",
       "      <td>-2098204677</td>\n",
       "      <td>383345</td>\n",
       "      <td>0.143176</td>\n",
       "      <td>0.142857</td>\n",
       "    </tr>\n",
       "    <tr>\n",
       "      <th>7515</th>\n",
       "      <td>-2098204677</td>\n",
       "      <td>524271</td>\n",
       "      <td>0.143174</td>\n",
       "      <td>0.142857</td>\n",
       "    </tr>\n",
       "    <tr>\n",
       "      <th>7516</th>\n",
       "      <td>-2098204677</td>\n",
       "      <td>1072723</td>\n",
       "      <td>0.143186</td>\n",
       "      <td>0.142857</td>\n",
       "    </tr>\n",
       "    <tr>\n",
       "      <th>7517</th>\n",
       "      <td>-2098204677</td>\n",
       "      <td>1313748</td>\n",
       "      <td>0.143160</td>\n",
       "      <td>0.142857</td>\n",
       "    </tr>\n",
       "    <tr>\n",
       "      <th>7518</th>\n",
       "      <td>-2098204677</td>\n",
       "      <td>3692068</td>\n",
       "      <td>0.143187</td>\n",
       "      <td>0.142857</td>\n",
       "    </tr>\n",
       "    <tr>\n",
       "      <th>7519</th>\n",
       "      <td>-2098204677</td>\n",
       "      <td>16439671</td>\n",
       "      <td>0.143170</td>\n",
       "      <td>0.142857</td>\n",
       "    </tr>\n",
       "    <tr>\n",
       "      <th>7520</th>\n",
       "      <td>-2098204677</td>\n",
       "      <td>281352589</td>\n",
       "      <td>0.143305</td>\n",
       "      <td>0.142857</td>\n",
       "    </tr>\n",
       "    <tr>\n",
       "      <th>7521</th>\n",
       "      <td>-2081423381</td>\n",
       "      <td>71663195</td>\n",
       "      <td>0.144365</td>\n",
       "      <td>0.142857</td>\n",
       "    </tr>\n",
       "    <tr>\n",
       "      <th>7522</th>\n",
       "      <td>-2081423381</td>\n",
       "      <td>299928688</td>\n",
       "      <td>0.144365</td>\n",
       "      <td>0.142857</td>\n",
       "    </tr>\n",
       "    <tr>\n",
       "      <th>7523</th>\n",
       "      <td>-2124847790</td>\n",
       "      <td>392893</td>\n",
       "      <td>0.158868</td>\n",
       "      <td>0.142857</td>\n",
       "    </tr>\n",
       "    <tr>\n",
       "      <th>7524</th>\n",
       "      <td>-2105516048</td>\n",
       "      <td>872215</td>\n",
       "      <td>0.158868</td>\n",
       "      <td>0.142857</td>\n",
       "    </tr>\n",
       "    <tr>\n",
       "      <th>7525</th>\n",
       "      <td>-2098593807</td>\n",
       "      <td>472470</td>\n",
       "      <td>0.158868</td>\n",
       "      <td>0.111111</td>\n",
       "    </tr>\n",
       "    <tr>\n",
       "      <th>7526</th>\n",
       "      <td>-2118601389</td>\n",
       "      <td>701188</td>\n",
       "      <td>0.158868</td>\n",
       "      <td>0.142857</td>\n",
       "    </tr>\n",
       "    <tr>\n",
       "      <th>7527</th>\n",
       "      <td>-2087182344</td>\n",
       "      <td>83504606</td>\n",
       "      <td>0.158868</td>\n",
       "      <td>0.142857</td>\n",
       "    </tr>\n",
       "    <tr>\n",
       "      <th>7528</th>\n",
       "      <td>-2109086380</td>\n",
       "      <td>48536327</td>\n",
       "      <td>0.272444</td>\n",
       "      <td>0.428571</td>\n",
       "    </tr>\n",
       "    <tr>\n",
       "      <th>7529</th>\n",
       "      <td>-2109086380</td>\n",
       "      <td>52024447</td>\n",
       "      <td>0.260528</td>\n",
       "      <td>0.428571</td>\n",
       "    </tr>\n",
       "    <tr>\n",
       "      <th>7530</th>\n",
       "      <td>-2109086380</td>\n",
       "      <td>167939864</td>\n",
       "      <td>0.407866</td>\n",
       "      <td>0.142857</td>\n",
       "    </tr>\n",
       "    <tr>\n",
       "      <th>7531</th>\n",
       "      <td>-2106900483</td>\n",
       "      <td>350206</td>\n",
       "      <td>0.097160</td>\n",
       "      <td>0.142857</td>\n",
       "    </tr>\n",
       "    <tr>\n",
       "      <th>7532</th>\n",
       "      <td>-2106900483</td>\n",
       "      <td>1510598</td>\n",
       "      <td>0.144330</td>\n",
       "      <td>0.090909</td>\n",
       "    </tr>\n",
       "    <tr>\n",
       "      <th>7533</th>\n",
       "      <td>-2103549954</td>\n",
       "      <td>616341</td>\n",
       "      <td>0.143833</td>\n",
       "      <td>0.142857</td>\n",
       "    </tr>\n",
       "    <tr>\n",
       "      <th>7534</th>\n",
       "      <td>-2103549954</td>\n",
       "      <td>1985673</td>\n",
       "      <td>0.144224</td>\n",
       "      <td>0.142857</td>\n",
       "    </tr>\n",
       "    <tr>\n",
       "      <th>7535</th>\n",
       "      <td>-2103549954</td>\n",
       "      <td>33706237</td>\n",
       "      <td>0.143845</td>\n",
       "      <td>0.142857</td>\n",
       "    </tr>\n",
       "    <tr>\n",
       "      <th>7536</th>\n",
       "      <td>-2103700139</td>\n",
       "      <td>190463</td>\n",
       "      <td>0.115718</td>\n",
       "      <td>0.142857</td>\n",
       "    </tr>\n",
       "    <tr>\n",
       "      <th>7537</th>\n",
       "      <td>-2103700139</td>\n",
       "      <td>16153169</td>\n",
       "      <td>0.144401</td>\n",
       "      <td>0.111111</td>\n",
       "    </tr>\n",
       "  </tbody>\n",
       "</table>\n",
       "<p>7538 rows × 4 columns</p>\n",
       "</div>"
      ],
      "text/plain": [
       "               A          B         C         D\n",
       "0    -2080333824     155154  0.158868  0.142857\n",
       "1    -2106785788     729088  0.115750  0.142857\n",
       "2    -2106785788    1945528  0.144412  0.111111\n",
       "3    -2102370298  156171489  0.158868  0.142857\n",
       "4    -2145665013   28288615  0.144313  0.142857\n",
       "5    -2145665013   92447052  0.144313  0.142857\n",
       "6    -2101084148  111604897  0.144361  0.142857\n",
       "7    -2101084148  128901626  0.144361  0.142857\n",
       "8    -2139168754     780052  0.158868  0.428571\n",
       "9    -2085674948     802651  0.158868  0.111111\n",
       "10   -2098405360  211495112  0.158868  0.428571\n",
       "11   -2144804846     299397  0.158868  0.111111\n",
       "12   -2141282285   14132403  0.158868  0.142857\n",
       "13   -2109982598     111103  0.158868  0.142857\n",
       "14   -2146181098  146260634  0.158868  0.111111\n",
       "15   -2127772327    1342733  0.158868  0.428571\n",
       "16   -2100559848     763343  0.158868  0.090909\n",
       "17   -2129346529     179272  0.053100  0.142857\n",
       "18   -2129346529    1121796  0.144968  0.037037\n",
       "19   -2082162511  254506992  0.158868  0.142857\n",
       "20   -2088718109   17328689  0.158868  0.142857\n",
       "21   -2126901933   16692042  0.158868  0.142857\n",
       "22   -2140577749     106329  0.128797  0.142857\n",
       "23   -2140577749     496123  0.128593  0.142857\n",
       "24   -2140577749   16556014  0.143651  0.111111\n",
       "25   -2102894548     657881  0.158868  0.142857\n",
       "26   -2134163411    8711929  0.158868  0.142857\n",
       "27   -2111291345     715696  0.158868  0.428571\n",
       "28   -2140856272     366977  0.122600  0.142857\n",
       "29   -2140856272     638785  0.125341  0.142857\n",
       "...          ...        ...       ...       ...\n",
       "7508 -2107121698   66185712  0.158868  0.111111\n",
       "7509 -2083381281     295584  0.144373  0.142857\n",
       "7510 -2083381281    1547054  0.144373  0.142857\n",
       "7511 -2091728928     681379  0.104396  0.142857\n",
       "7512 -2091728928   70067532  0.146035  0.090909\n",
       "7513 -2098204677     162687  0.143273  0.142857\n",
       "7514 -2098204677     383345  0.143176  0.142857\n",
       "7515 -2098204677     524271  0.143174  0.142857\n",
       "7516 -2098204677    1072723  0.143186  0.142857\n",
       "7517 -2098204677    1313748  0.143160  0.142857\n",
       "7518 -2098204677    3692068  0.143187  0.142857\n",
       "7519 -2098204677   16439671  0.143170  0.142857\n",
       "7520 -2098204677  281352589  0.143305  0.142857\n",
       "7521 -2081423381   71663195  0.144365  0.142857\n",
       "7522 -2081423381  299928688  0.144365  0.142857\n",
       "7523 -2124847790     392893  0.158868  0.142857\n",
       "7524 -2105516048     872215  0.158868  0.142857\n",
       "7525 -2098593807     472470  0.158868  0.111111\n",
       "7526 -2118601389     701188  0.158868  0.142857\n",
       "7527 -2087182344   83504606  0.158868  0.142857\n",
       "7528 -2109086380   48536327  0.272444  0.428571\n",
       "7529 -2109086380   52024447  0.260528  0.428571\n",
       "7530 -2109086380  167939864  0.407866  0.142857\n",
       "7531 -2106900483     350206  0.097160  0.142857\n",
       "7532 -2106900483    1510598  0.144330  0.090909\n",
       "7533 -2103549954     616341  0.143833  0.142857\n",
       "7534 -2103549954    1985673  0.144224  0.142857\n",
       "7535 -2103549954   33706237  0.143845  0.142857\n",
       "7536 -2103700139     190463  0.115718  0.142857\n",
       "7537 -2103700139   16153169  0.144401  0.111111\n",
       "\n",
       "[7538 rows x 4 columns]"
      ]
     },
     "execution_count": 830,
     "metadata": {},
     "output_type": "execute_result"
    }
   ],
   "source": [
    "dfSh"
   ]
  },
  {
   "cell_type": "code",
   "execution_count": 831,
   "metadata": {
    "collapsed": false
   },
   "outputs": [
    {
     "data": {
      "text/plain": [
       "7538"
      ]
     },
     "execution_count": 831,
     "metadata": {},
     "output_type": "execute_result"
    }
   ],
   "source": [
    "len(dfSh)"
   ]
  },
  {
   "cell_type": "code",
   "execution_count": 832,
   "metadata": {
    "collapsed": false
   },
   "outputs": [],
   "source": [
    "s_hat_user=[]\n",
    "for i in d2.keys():\n",
    "#     if len(d2[i]) == 1:\n",
    "#         continue\n",
    "    for ele in d2[i]:\n",
    "        s_hat_user.append([i, ele,user_sim(ele,i),df2.ix[(i,ele)]['score'][0]])\n"
   ]
  },
  {
   "cell_type": "code",
   "execution_count": 833,
   "metadata": {
    "collapsed": true
   },
   "outputs": [],
   "source": [
    "dfSu=pd.DataFrame(s_hat_user, columns=['B', 'A', 'E', 'F'])"
   ]
  },
  {
   "cell_type": "code",
   "execution_count": 834,
   "metadata": {
    "collapsed": false
   },
   "outputs": [
    {
     "data": {
      "text/html": [
       "<div>\n",
       "<table border=\"1\" class=\"dataframe\">\n",
       "  <thead>\n",
       "    <tr style=\"text-align: right;\">\n",
       "      <th></th>\n",
       "      <th>B</th>\n",
       "      <th>A</th>\n",
       "      <th>E</th>\n",
       "      <th>F</th>\n",
       "    </tr>\n",
       "  </thead>\n",
       "  <tbody>\n",
       "    <tr>\n",
       "      <th>16</th>\n",
       "      <td>33013790</td>\n",
       "      <td>-2102589295</td>\n",
       "      <td>0.158868</td>\n",
       "      <td>0.428571</td>\n",
       "    </tr>\n",
       "    <tr>\n",
       "      <th>27</th>\n",
       "      <td>1310772</td>\n",
       "      <td>-2084420214</td>\n",
       "      <td>0.158868</td>\n",
       "      <td>0.428571</td>\n",
       "    </tr>\n",
       "    <tr>\n",
       "      <th>31</th>\n",
       "      <td>737334</td>\n",
       "      <td>-2108377623</td>\n",
       "      <td>0.177511</td>\n",
       "      <td>0.428571</td>\n",
       "    </tr>\n",
       "    <tr>\n",
       "      <th>41</th>\n",
       "      <td>13992004</td>\n",
       "      <td>-2102138481</td>\n",
       "      <td>0.116085</td>\n",
       "      <td>0.428571</td>\n",
       "    </tr>\n",
       "    <tr>\n",
       "      <th>47</th>\n",
       "      <td>87408715</td>\n",
       "      <td>-2093893034</td>\n",
       "      <td>0.158868</td>\n",
       "      <td>0.428571</td>\n",
       "    </tr>\n",
       "    <tr>\n",
       "      <th>58</th>\n",
       "      <td>33603689</td>\n",
       "      <td>-2103304849</td>\n",
       "      <td>0.158868</td>\n",
       "      <td>0.428571</td>\n",
       "    </tr>\n",
       "    <tr>\n",
       "      <th>71</th>\n",
       "      <td>30998666</td>\n",
       "      <td>-2083380378</td>\n",
       "      <td>0.158868</td>\n",
       "      <td>0.428571</td>\n",
       "    </tr>\n",
       "    <tr>\n",
       "      <th>72</th>\n",
       "      <td>8962192</td>\n",
       "      <td>-2118572717</td>\n",
       "      <td>0.144432</td>\n",
       "      <td>0.428571</td>\n",
       "    </tr>\n",
       "    <tr>\n",
       "      <th>78</th>\n",
       "      <td>68255892</td>\n",
       "      <td>-2126391563</td>\n",
       "      <td>0.158868</td>\n",
       "      <td>0.428571</td>\n",
       "    </tr>\n",
       "    <tr>\n",
       "      <th>109</th>\n",
       "      <td>606421</td>\n",
       "      <td>-2133525004</td>\n",
       "      <td>0.187156</td>\n",
       "      <td>0.428571</td>\n",
       "    </tr>\n",
       "    <tr>\n",
       "      <th>112</th>\n",
       "      <td>606421</td>\n",
       "      <td>-2124108233</td>\n",
       "      <td>0.192217</td>\n",
       "      <td>0.428571</td>\n",
       "    </tr>\n",
       "    <tr>\n",
       "      <th>113</th>\n",
       "      <td>606421</td>\n",
       "      <td>-2121833849</td>\n",
       "      <td>0.177085</td>\n",
       "      <td>0.428571</td>\n",
       "    </tr>\n",
       "    <tr>\n",
       "      <th>122</th>\n",
       "      <td>30884059</td>\n",
       "      <td>-2099543756</td>\n",
       "      <td>0.158868</td>\n",
       "      <td>0.428571</td>\n",
       "    </tr>\n",
       "    <tr>\n",
       "      <th>134</th>\n",
       "      <td>164082</td>\n",
       "      <td>-2127229547</td>\n",
       "      <td>0.145482</td>\n",
       "      <td>0.428571</td>\n",
       "    </tr>\n",
       "    <tr>\n",
       "      <th>154</th>\n",
       "      <td>327979</td>\n",
       "      <td>-2133323495</td>\n",
       "      <td>0.158868</td>\n",
       "      <td>0.428571</td>\n",
       "    </tr>\n",
       "    <tr>\n",
       "      <th>159</th>\n",
       "      <td>259064116</td>\n",
       "      <td>-2134515224</td>\n",
       "      <td>0.132077</td>\n",
       "      <td>0.428571</td>\n",
       "    </tr>\n",
       "    <tr>\n",
       "      <th>173</th>\n",
       "      <td>1261916</td>\n",
       "      <td>-2141256931</td>\n",
       "      <td>0.158868</td>\n",
       "      <td>0.428571</td>\n",
       "    </tr>\n",
       "    <tr>\n",
       "      <th>188</th>\n",
       "      <td>147838</td>\n",
       "      <td>-2140830428</td>\n",
       "      <td>0.145767</td>\n",
       "      <td>0.428571</td>\n",
       "    </tr>\n",
       "    <tr>\n",
       "      <th>192</th>\n",
       "      <td>13156740</td>\n",
       "      <td>-2088699923</td>\n",
       "      <td>0.158868</td>\n",
       "      <td>0.428571</td>\n",
       "    </tr>\n",
       "    <tr>\n",
       "      <th>197</th>\n",
       "      <td>98703</td>\n",
       "      <td>-2081789061</td>\n",
       "      <td>0.158868</td>\n",
       "      <td>0.428571</td>\n",
       "    </tr>\n",
       "    <tr>\n",
       "      <th>216</th>\n",
       "      <td>3727315</td>\n",
       "      <td>-2107295885</td>\n",
       "      <td>0.158868</td>\n",
       "      <td>0.428571</td>\n",
       "    </tr>\n",
       "    <tr>\n",
       "      <th>217</th>\n",
       "      <td>30360004</td>\n",
       "      <td>-2114454799</td>\n",
       "      <td>0.158868</td>\n",
       "      <td>0.428571</td>\n",
       "    </tr>\n",
       "    <tr>\n",
       "      <th>219</th>\n",
       "      <td>4358599</td>\n",
       "      <td>-2139271717</td>\n",
       "      <td>0.159776</td>\n",
       "      <td>0.428571</td>\n",
       "    </tr>\n",
       "    <tr>\n",
       "      <th>223</th>\n",
       "      <td>4358599</td>\n",
       "      <td>-2127889416</td>\n",
       "      <td>0.161228</td>\n",
       "      <td>0.428571</td>\n",
       "    </tr>\n",
       "    <tr>\n",
       "      <th>235</th>\n",
       "      <td>151355856</td>\n",
       "      <td>-2139063628</td>\n",
       "      <td>0.158868</td>\n",
       "      <td>0.428571</td>\n",
       "    </tr>\n",
       "    <tr>\n",
       "      <th>239</th>\n",
       "      <td>819670</td>\n",
       "      <td>-2105268874</td>\n",
       "      <td>0.158868</td>\n",
       "      <td>0.428571</td>\n",
       "    </tr>\n",
       "    <tr>\n",
       "      <th>245</th>\n",
       "      <td>459233</td>\n",
       "      <td>-2102159019</td>\n",
       "      <td>0.158868</td>\n",
       "      <td>0.428571</td>\n",
       "    </tr>\n",
       "    <tr>\n",
       "      <th>265</th>\n",
       "      <td>754198</td>\n",
       "      <td>-2119436839</td>\n",
       "      <td>0.158868</td>\n",
       "      <td>0.428571</td>\n",
       "    </tr>\n",
       "    <tr>\n",
       "      <th>273</th>\n",
       "      <td>868898</td>\n",
       "      <td>-2113068876</td>\n",
       "      <td>0.145275</td>\n",
       "      <td>0.428571</td>\n",
       "    </tr>\n",
       "    <tr>\n",
       "      <th>275</th>\n",
       "      <td>90948140</td>\n",
       "      <td>-2120102224</td>\n",
       "      <td>0.158868</td>\n",
       "      <td>0.428571</td>\n",
       "    </tr>\n",
       "    <tr>\n",
       "      <th>...</th>\n",
       "      <td>...</td>\n",
       "      <td>...</td>\n",
       "      <td>...</td>\n",
       "      <td>...</td>\n",
       "    </tr>\n",
       "    <tr>\n",
       "      <th>7125</th>\n",
       "      <td>16252028</td>\n",
       "      <td>-2115187090</td>\n",
       "      <td>0.158868</td>\n",
       "      <td>0.428571</td>\n",
       "    </tr>\n",
       "    <tr>\n",
       "      <th>7132</th>\n",
       "      <td>720005</td>\n",
       "      <td>-2113766825</td>\n",
       "      <td>0.158868</td>\n",
       "      <td>0.428571</td>\n",
       "    </tr>\n",
       "    <tr>\n",
       "      <th>7137</th>\n",
       "      <td>13630606</td>\n",
       "      <td>-2120453932</td>\n",
       "      <td>0.158868</td>\n",
       "      <td>0.428571</td>\n",
       "    </tr>\n",
       "    <tr>\n",
       "      <th>7138</th>\n",
       "      <td>28327055</td>\n",
       "      <td>-2146053450</td>\n",
       "      <td>0.120346</td>\n",
       "      <td>0.428571</td>\n",
       "    </tr>\n",
       "    <tr>\n",
       "      <th>7157</th>\n",
       "      <td>13794503</td>\n",
       "      <td>-2105805375</td>\n",
       "      <td>0.115884</td>\n",
       "      <td>0.428571</td>\n",
       "    </tr>\n",
       "    <tr>\n",
       "      <th>7158</th>\n",
       "      <td>17792201</td>\n",
       "      <td>-2136549319</td>\n",
       "      <td>0.131388</td>\n",
       "      <td>0.428571</td>\n",
       "    </tr>\n",
       "    <tr>\n",
       "      <th>7179</th>\n",
       "      <td>161971434</td>\n",
       "      <td>-2107828690</td>\n",
       "      <td>0.158868</td>\n",
       "      <td>0.428571</td>\n",
       "    </tr>\n",
       "    <tr>\n",
       "      <th>7197</th>\n",
       "      <td>1342733</td>\n",
       "      <td>-2127772327</td>\n",
       "      <td>0.271846</td>\n",
       "      <td>0.428571</td>\n",
       "    </tr>\n",
       "    <tr>\n",
       "      <th>7199</th>\n",
       "      <td>1342733</td>\n",
       "      <td>-2080238127</td>\n",
       "      <td>0.260217</td>\n",
       "      <td>0.428571</td>\n",
       "    </tr>\n",
       "    <tr>\n",
       "      <th>7211</th>\n",
       "      <td>54869286</td>\n",
       "      <td>-2144338303</td>\n",
       "      <td>0.174526</td>\n",
       "      <td>0.428571</td>\n",
       "    </tr>\n",
       "    <tr>\n",
       "      <th>7217</th>\n",
       "      <td>54869286</td>\n",
       "      <td>-2080188588</td>\n",
       "      <td>0.187794</td>\n",
       "      <td>0.428571</td>\n",
       "    </tr>\n",
       "    <tr>\n",
       "      <th>7239</th>\n",
       "      <td>215121244</td>\n",
       "      <td>-2084578036</td>\n",
       "      <td>0.119295</td>\n",
       "      <td>0.428571</td>\n",
       "    </tr>\n",
       "    <tr>\n",
       "      <th>7241</th>\n",
       "      <td>114017</td>\n",
       "      <td>-2136267240</td>\n",
       "      <td>0.158868</td>\n",
       "      <td>0.428571</td>\n",
       "    </tr>\n",
       "    <tr>\n",
       "      <th>7256</th>\n",
       "      <td>9502088</td>\n",
       "      <td>-2106662497</td>\n",
       "      <td>0.158868</td>\n",
       "      <td>0.428571</td>\n",
       "    </tr>\n",
       "    <tr>\n",
       "      <th>7257</th>\n",
       "      <td>24673674</td>\n",
       "      <td>-2110129660</td>\n",
       "      <td>0.144439</td>\n",
       "      <td>0.428571</td>\n",
       "    </tr>\n",
       "    <tr>\n",
       "      <th>7272</th>\n",
       "      <td>13204914</td>\n",
       "      <td>-2130356279</td>\n",
       "      <td>0.158868</td>\n",
       "      <td>0.428571</td>\n",
       "    </tr>\n",
       "    <tr>\n",
       "      <th>7275</th>\n",
       "      <td>26721720</td>\n",
       "      <td>-2145838095</td>\n",
       "      <td>0.158868</td>\n",
       "      <td>0.428571</td>\n",
       "    </tr>\n",
       "    <tr>\n",
       "      <th>7324</th>\n",
       "      <td>572972</td>\n",
       "      <td>-2137871668</td>\n",
       "      <td>0.158868</td>\n",
       "      <td>0.428571</td>\n",
       "    </tr>\n",
       "    <tr>\n",
       "      <th>7329</th>\n",
       "      <td>13286971</td>\n",
       "      <td>-2091510794</td>\n",
       "      <td>0.143394</td>\n",
       "      <td>0.428571</td>\n",
       "    </tr>\n",
       "    <tr>\n",
       "      <th>7343</th>\n",
       "      <td>687703</td>\n",
       "      <td>-2116560399</td>\n",
       "      <td>0.158868</td>\n",
       "      <td>0.428571</td>\n",
       "    </tr>\n",
       "    <tr>\n",
       "      <th>7349</th>\n",
       "      <td>867937</td>\n",
       "      <td>-2111202263</td>\n",
       "      <td>0.158868</td>\n",
       "      <td>0.428571</td>\n",
       "    </tr>\n",
       "    <tr>\n",
       "      <th>7354</th>\n",
       "      <td>35143273</td>\n",
       "      <td>-2088699923</td>\n",
       "      <td>0.158868</td>\n",
       "      <td>0.428571</td>\n",
       "    </tr>\n",
       "    <tr>\n",
       "      <th>7374</th>\n",
       "      <td>523930</td>\n",
       "      <td>-2121434058</td>\n",
       "      <td>0.158868</td>\n",
       "      <td>0.428571</td>\n",
       "    </tr>\n",
       "    <tr>\n",
       "      <th>7407</th>\n",
       "      <td>39485164</td>\n",
       "      <td>-2080638933</td>\n",
       "      <td>0.158868</td>\n",
       "      <td>0.428571</td>\n",
       "    </tr>\n",
       "    <tr>\n",
       "      <th>7423</th>\n",
       "      <td>14597899</td>\n",
       "      <td>-2130529956</td>\n",
       "      <td>0.145345</td>\n",
       "      <td>0.428571</td>\n",
       "    </tr>\n",
       "    <tr>\n",
       "      <th>7432</th>\n",
       "      <td>35503896</td>\n",
       "      <td>-2137497952</td>\n",
       "      <td>0.127740</td>\n",
       "      <td>0.428571</td>\n",
       "    </tr>\n",
       "    <tr>\n",
       "      <th>7437</th>\n",
       "      <td>30162720</td>\n",
       "      <td>-2118600836</td>\n",
       "      <td>0.158868</td>\n",
       "      <td>0.428571</td>\n",
       "    </tr>\n",
       "    <tr>\n",
       "      <th>7447</th>\n",
       "      <td>319454</td>\n",
       "      <td>-2136515726</td>\n",
       "      <td>0.158868</td>\n",
       "      <td>0.428571</td>\n",
       "    </tr>\n",
       "    <tr>\n",
       "      <th>7461</th>\n",
       "      <td>886537</td>\n",
       "      <td>-2083990925</td>\n",
       "      <td>0.118050</td>\n",
       "      <td>0.428571</td>\n",
       "    </tr>\n",
       "    <tr>\n",
       "      <th>7497</th>\n",
       "      <td>200507286</td>\n",
       "      <td>-2098775303</td>\n",
       "      <td>0.134947</td>\n",
       "      <td>0.428571</td>\n",
       "    </tr>\n",
       "  </tbody>\n",
       "</table>\n",
       "<p>642 rows × 4 columns</p>\n",
       "</div>"
      ],
      "text/plain": [
       "              B           A         E         F\n",
       "16     33013790 -2102589295  0.158868  0.428571\n",
       "27      1310772 -2084420214  0.158868  0.428571\n",
       "31       737334 -2108377623  0.177511  0.428571\n",
       "41     13992004 -2102138481  0.116085  0.428571\n",
       "47     87408715 -2093893034  0.158868  0.428571\n",
       "58     33603689 -2103304849  0.158868  0.428571\n",
       "71     30998666 -2083380378  0.158868  0.428571\n",
       "72      8962192 -2118572717  0.144432  0.428571\n",
       "78     68255892 -2126391563  0.158868  0.428571\n",
       "109      606421 -2133525004  0.187156  0.428571\n",
       "112      606421 -2124108233  0.192217  0.428571\n",
       "113      606421 -2121833849  0.177085  0.428571\n",
       "122    30884059 -2099543756  0.158868  0.428571\n",
       "134      164082 -2127229547  0.145482  0.428571\n",
       "154      327979 -2133323495  0.158868  0.428571\n",
       "159   259064116 -2134515224  0.132077  0.428571\n",
       "173     1261916 -2141256931  0.158868  0.428571\n",
       "188      147838 -2140830428  0.145767  0.428571\n",
       "192    13156740 -2088699923  0.158868  0.428571\n",
       "197       98703 -2081789061  0.158868  0.428571\n",
       "216     3727315 -2107295885  0.158868  0.428571\n",
       "217    30360004 -2114454799  0.158868  0.428571\n",
       "219     4358599 -2139271717  0.159776  0.428571\n",
       "223     4358599 -2127889416  0.161228  0.428571\n",
       "235   151355856 -2139063628  0.158868  0.428571\n",
       "239      819670 -2105268874  0.158868  0.428571\n",
       "245      459233 -2102159019  0.158868  0.428571\n",
       "265      754198 -2119436839  0.158868  0.428571\n",
       "273      868898 -2113068876  0.145275  0.428571\n",
       "275    90948140 -2120102224  0.158868  0.428571\n",
       "...         ...         ...       ...       ...\n",
       "7125   16252028 -2115187090  0.158868  0.428571\n",
       "7132     720005 -2113766825  0.158868  0.428571\n",
       "7137   13630606 -2120453932  0.158868  0.428571\n",
       "7138   28327055 -2146053450  0.120346  0.428571\n",
       "7157   13794503 -2105805375  0.115884  0.428571\n",
       "7158   17792201 -2136549319  0.131388  0.428571\n",
       "7179  161971434 -2107828690  0.158868  0.428571\n",
       "7197    1342733 -2127772327  0.271846  0.428571\n",
       "7199    1342733 -2080238127  0.260217  0.428571\n",
       "7211   54869286 -2144338303  0.174526  0.428571\n",
       "7217   54869286 -2080188588  0.187794  0.428571\n",
       "7239  215121244 -2084578036  0.119295  0.428571\n",
       "7241     114017 -2136267240  0.158868  0.428571\n",
       "7256    9502088 -2106662497  0.158868  0.428571\n",
       "7257   24673674 -2110129660  0.144439  0.428571\n",
       "7272   13204914 -2130356279  0.158868  0.428571\n",
       "7275   26721720 -2145838095  0.158868  0.428571\n",
       "7324     572972 -2137871668  0.158868  0.428571\n",
       "7329   13286971 -2091510794  0.143394  0.428571\n",
       "7343     687703 -2116560399  0.158868  0.428571\n",
       "7349     867937 -2111202263  0.158868  0.428571\n",
       "7354   35143273 -2088699923  0.158868  0.428571\n",
       "7374     523930 -2121434058  0.158868  0.428571\n",
       "7407   39485164 -2080638933  0.158868  0.428571\n",
       "7423   14597899 -2130529956  0.145345  0.428571\n",
       "7432   35503896 -2137497952  0.127740  0.428571\n",
       "7437   30162720 -2118600836  0.158868  0.428571\n",
       "7447     319454 -2136515726  0.158868  0.428571\n",
       "7461     886537 -2083990925  0.118050  0.428571\n",
       "7497  200507286 -2098775303  0.134947  0.428571\n",
       "\n",
       "[642 rows x 4 columns]"
      ]
     },
     "execution_count": 834,
     "metadata": {},
     "output_type": "execute_result"
    }
   ],
   "source": [
    "dfSu.ix[dfSu['F']>0.4]"
   ]
  },
  {
   "cell_type": "code",
   "execution_count": 835,
   "metadata": {
    "collapsed": false
   },
   "outputs": [
    {
     "data": {
      "text/plain": [
       "0.48573950783088199"
      ]
     },
     "execution_count": 835,
     "metadata": {},
     "output_type": "execute_result"
    }
   ],
   "source": [
    "user_search(-2146742747,-2133408713)"
   ]
  },
  {
   "cell_type": "code",
   "execution_count": 836,
   "metadata": {
    "collapsed": false
   },
   "outputs": [
    {
     "data": {
      "image/png": "[encoded data removed]",
      "text/plain": [
       "<matplotlib.figure.Figure at 0x11b9f41d0>"
      ]
     },
     "metadata": {},
     "output_type": "display_data"
    }
   ],
   "source": [
    "plt.plot(dfSu['F'],dfSu['E'],'o')\n",
    "plt.show()"
   ]
  },
  {
   "cell_type": "code",
   "execution_count": 837,
   "metadata": {
    "collapsed": false
   },
   "outputs": [
    {
     "data": {
      "text/plain": [
       "array([[ 1.        ,  0.00102968],\n",
       "       [ 0.00102968,  1.        ]])"
      ]
     },
     "execution_count": 837,
     "metadata": {},
     "output_type": "execute_result"
    }
   ],
   "source": [
    "np.corrcoef(np.array(dfSu['F']),np.array(dfSu['E']))     "
   ]
  },
  {
   "cell_type": "code",
   "execution_count": 838,
   "metadata": {
    "collapsed": false
   },
   "outputs": [
    {
     "data": {
      "text/plain": [
       "array([ 0.14285714,  0.14285714,  0.11111111, ...,  0.14285714,\n",
       "        0.14285714,  0.11111111])"
      ]
     },
     "execution_count": 838,
     "metadata": {},
     "output_type": "execute_result"
    }
   ],
   "source": [
    "np.array(dfSh['D'])"
   ]
  },
  {
   "cell_type": "code",
   "execution_count": null,
   "metadata": {
    "collapsed": true
   },
   "outputs": [],
   "source": []
  },
  {
   "cell_type": "code",
   "execution_count": null,
   "metadata": {
    "collapsed": true
   },
   "outputs": [],
   "source": []
  },
  {
   "cell_type": "code",
   "execution_count": 767,
   "metadata": {
    "collapsed": false
   },
   "outputs": [
    {
     "data": {
      "text/html": [
       "<div>\n",
       "<table border=\"1\" class=\"dataframe\">\n",
       "  <thead>\n",
       "    <tr style=\"text-align: right;\">\n",
       "      <th></th>\n",
       "      <th>A</th>\n",
       "      <th>B</th>\n",
       "      <th>C</th>\n",
       "      <th>D</th>\n",
       "    </tr>\n",
       "  </thead>\n",
       "  <tbody>\n",
       "    <tr>\n",
       "      <th>0</th>\n",
       "      <td>-2080333824</td>\n",
       "      <td>155154</td>\n",
       "      <td>0.158868</td>\n",
       "      <td>0.142857</td>\n",
       "    </tr>\n",
       "    <tr>\n",
       "      <th>1</th>\n",
       "      <td>-2106785788</td>\n",
       "      <td>729088</td>\n",
       "      <td>0.115750</td>\n",
       "      <td>0.142857</td>\n",
       "    </tr>\n",
       "    <tr>\n",
       "      <th>2</th>\n",
       "      <td>-2106785788</td>\n",
       "      <td>1945528</td>\n",
       "      <td>0.144412</td>\n",
       "      <td>0.111111</td>\n",
       "    </tr>\n",
       "    <tr>\n",
       "      <th>3</th>\n",
       "      <td>-2102370298</td>\n",
       "      <td>156171489</td>\n",
       "      <td>0.158868</td>\n",
       "      <td>0.142857</td>\n",
       "    </tr>\n",
       "    <tr>\n",
       "      <th>4</th>\n",
       "      <td>-2145665013</td>\n",
       "      <td>28288615</td>\n",
       "      <td>0.144313</td>\n",
       "      <td>0.142857</td>\n",
       "    </tr>\n",
       "    <tr>\n",
       "      <th>5</th>\n",
       "      <td>-2145665013</td>\n",
       "      <td>92447052</td>\n",
       "      <td>0.144313</td>\n",
       "      <td>0.142857</td>\n",
       "    </tr>\n",
       "    <tr>\n",
       "      <th>6</th>\n",
       "      <td>-2101084148</td>\n",
       "      <td>111604897</td>\n",
       "      <td>0.144361</td>\n",
       "      <td>0.142857</td>\n",
       "    </tr>\n",
       "    <tr>\n",
       "      <th>7</th>\n",
       "      <td>-2101084148</td>\n",
       "      <td>128901626</td>\n",
       "      <td>0.144361</td>\n",
       "      <td>0.142857</td>\n",
       "    </tr>\n",
       "    <tr>\n",
       "      <th>8</th>\n",
       "      <td>-2139168754</td>\n",
       "      <td>780052</td>\n",
       "      <td>0.158868</td>\n",
       "      <td>0.428571</td>\n",
       "    </tr>\n",
       "    <tr>\n",
       "      <th>9</th>\n",
       "      <td>-2085674948</td>\n",
       "      <td>802651</td>\n",
       "      <td>0.158868</td>\n",
       "      <td>0.111111</td>\n",
       "    </tr>\n",
       "    <tr>\n",
       "      <th>10</th>\n",
       "      <td>-2098405360</td>\n",
       "      <td>211495112</td>\n",
       "      <td>0.158868</td>\n",
       "      <td>0.428571</td>\n",
       "    </tr>\n",
       "    <tr>\n",
       "      <th>11</th>\n",
       "      <td>-2144804846</td>\n",
       "      <td>299397</td>\n",
       "      <td>0.158868</td>\n",
       "      <td>0.111111</td>\n",
       "    </tr>\n",
       "    <tr>\n",
       "      <th>12</th>\n",
       "      <td>-2141282285</td>\n",
       "      <td>14132403</td>\n",
       "      <td>0.158868</td>\n",
       "      <td>0.142857</td>\n",
       "    </tr>\n",
       "    <tr>\n",
       "      <th>13</th>\n",
       "      <td>-2109982598</td>\n",
       "      <td>111103</td>\n",
       "      <td>0.158868</td>\n",
       "      <td>0.142857</td>\n",
       "    </tr>\n",
       "    <tr>\n",
       "      <th>14</th>\n",
       "      <td>-2146181098</td>\n",
       "      <td>146260634</td>\n",
       "      <td>0.158868</td>\n",
       "      <td>0.111111</td>\n",
       "    </tr>\n",
       "    <tr>\n",
       "      <th>15</th>\n",
       "      <td>-2127772327</td>\n",
       "      <td>1342733</td>\n",
       "      <td>0.158868</td>\n",
       "      <td>0.428571</td>\n",
       "    </tr>\n",
       "    <tr>\n",
       "      <th>16</th>\n",
       "      <td>-2100559848</td>\n",
       "      <td>763343</td>\n",
       "      <td>0.158868</td>\n",
       "      <td>0.090909</td>\n",
       "    </tr>\n",
       "    <tr>\n",
       "      <th>17</th>\n",
       "      <td>-2129346529</td>\n",
       "      <td>179272</td>\n",
       "      <td>0.053100</td>\n",
       "      <td>0.142857</td>\n",
       "    </tr>\n",
       "    <tr>\n",
       "      <th>18</th>\n",
       "      <td>-2129346529</td>\n",
       "      <td>1121796</td>\n",
       "      <td>0.144968</td>\n",
       "      <td>0.037037</td>\n",
       "    </tr>\n",
       "    <tr>\n",
       "      <th>19</th>\n",
       "      <td>-2082162511</td>\n",
       "      <td>254506992</td>\n",
       "      <td>0.158868</td>\n",
       "      <td>0.142857</td>\n",
       "    </tr>\n",
       "    <tr>\n",
       "      <th>20</th>\n",
       "      <td>-2088718109</td>\n",
       "      <td>17328689</td>\n",
       "      <td>0.158868</td>\n",
       "      <td>0.142857</td>\n",
       "    </tr>\n",
       "    <tr>\n",
       "      <th>21</th>\n",
       "      <td>-2126901933</td>\n",
       "      <td>16692042</td>\n",
       "      <td>0.158868</td>\n",
       "      <td>0.142857</td>\n",
       "    </tr>\n",
       "    <tr>\n",
       "      <th>22</th>\n",
       "      <td>-2140577749</td>\n",
       "      <td>106329</td>\n",
       "      <td>0.128797</td>\n",
       "      <td>0.142857</td>\n",
       "    </tr>\n",
       "    <tr>\n",
       "      <th>23</th>\n",
       "      <td>-2140577749</td>\n",
       "      <td>496123</td>\n",
       "      <td>0.128593</td>\n",
       "      <td>0.142857</td>\n",
       "    </tr>\n",
       "    <tr>\n",
       "      <th>24</th>\n",
       "      <td>-2140577749</td>\n",
       "      <td>16556014</td>\n",
       "      <td>0.143651</td>\n",
       "      <td>0.111111</td>\n",
       "    </tr>\n",
       "    <tr>\n",
       "      <th>25</th>\n",
       "      <td>-2102894548</td>\n",
       "      <td>657881</td>\n",
       "      <td>0.158868</td>\n",
       "      <td>0.142857</td>\n",
       "    </tr>\n",
       "    <tr>\n",
       "      <th>26</th>\n",
       "      <td>-2134163411</td>\n",
       "      <td>8711929</td>\n",
       "      <td>0.158868</td>\n",
       "      <td>0.142857</td>\n",
       "    </tr>\n",
       "    <tr>\n",
       "      <th>27</th>\n",
       "      <td>-2111291345</td>\n",
       "      <td>715696</td>\n",
       "      <td>0.158868</td>\n",
       "      <td>0.428571</td>\n",
       "    </tr>\n",
       "    <tr>\n",
       "      <th>28</th>\n",
       "      <td>-2140856272</td>\n",
       "      <td>366977</td>\n",
       "      <td>0.122600</td>\n",
       "      <td>0.142857</td>\n",
       "    </tr>\n",
       "    <tr>\n",
       "      <th>29</th>\n",
       "      <td>-2140856272</td>\n",
       "      <td>638785</td>\n",
       "      <td>0.125341</td>\n",
       "      <td>0.142857</td>\n",
       "    </tr>\n",
       "    <tr>\n",
       "      <th>...</th>\n",
       "      <td>...</td>\n",
       "      <td>...</td>\n",
       "      <td>...</td>\n",
       "      <td>...</td>\n",
       "    </tr>\n",
       "    <tr>\n",
       "      <th>7508</th>\n",
       "      <td>-2107121698</td>\n",
       "      <td>66185712</td>\n",
       "      <td>0.158868</td>\n",
       "      <td>0.111111</td>\n",
       "    </tr>\n",
       "    <tr>\n",
       "      <th>7509</th>\n",
       "      <td>-2083381281</td>\n",
       "      <td>295584</td>\n",
       "      <td>0.144373</td>\n",
       "      <td>0.142857</td>\n",
       "    </tr>\n",
       "    <tr>\n",
       "      <th>7510</th>\n",
       "      <td>-2083381281</td>\n",
       "      <td>1547054</td>\n",
       "      <td>0.144373</td>\n",
       "      <td>0.142857</td>\n",
       "    </tr>\n",
       "    <tr>\n",
       "      <th>7511</th>\n",
       "      <td>-2091728928</td>\n",
       "      <td>681379</td>\n",
       "      <td>0.104396</td>\n",
       "      <td>0.142857</td>\n",
       "    </tr>\n",
       "    <tr>\n",
       "      <th>7512</th>\n",
       "      <td>-2091728928</td>\n",
       "      <td>70067532</td>\n",
       "      <td>0.146035</td>\n",
       "      <td>0.090909</td>\n",
       "    </tr>\n",
       "    <tr>\n",
       "      <th>7513</th>\n",
       "      <td>-2098204677</td>\n",
       "      <td>162687</td>\n",
       "      <td>0.143273</td>\n",
       "      <td>0.142857</td>\n",
       "    </tr>\n",
       "    <tr>\n",
       "      <th>7514</th>\n",
       "      <td>-2098204677</td>\n",
       "      <td>383345</td>\n",
       "      <td>0.143176</td>\n",
       "      <td>0.142857</td>\n",
       "    </tr>\n",
       "    <tr>\n",
       "      <th>7515</th>\n",
       "      <td>-2098204677</td>\n",
       "      <td>524271</td>\n",
       "      <td>0.143174</td>\n",
       "      <td>0.142857</td>\n",
       "    </tr>\n",
       "    <tr>\n",
       "      <th>7516</th>\n",
       "      <td>-2098204677</td>\n",
       "      <td>1072723</td>\n",
       "      <td>0.143186</td>\n",
       "      <td>0.142857</td>\n",
       "    </tr>\n",
       "    <tr>\n",
       "      <th>7517</th>\n",
       "      <td>-2098204677</td>\n",
       "      <td>1313748</td>\n",
       "      <td>0.143160</td>\n",
       "      <td>0.142857</td>\n",
       "    </tr>\n",
       "    <tr>\n",
       "      <th>7518</th>\n",
       "      <td>-2098204677</td>\n",
       "      <td>3692068</td>\n",
       "      <td>0.143187</td>\n",
       "      <td>0.142857</td>\n",
       "    </tr>\n",
       "    <tr>\n",
       "      <th>7519</th>\n",
       "      <td>-2098204677</td>\n",
       "      <td>16439671</td>\n",
       "      <td>0.143170</td>\n",
       "      <td>0.142857</td>\n",
       "    </tr>\n",
       "    <tr>\n",
       "      <th>7520</th>\n",
       "      <td>-2098204677</td>\n",
       "      <td>281352589</td>\n",
       "      <td>0.143305</td>\n",
       "      <td>0.142857</td>\n",
       "    </tr>\n",
       "    <tr>\n",
       "      <th>7521</th>\n",
       "      <td>-2081423381</td>\n",
       "      <td>71663195</td>\n",
       "      <td>0.144365</td>\n",
       "      <td>0.142857</td>\n",
       "    </tr>\n",
       "    <tr>\n",
       "      <th>7522</th>\n",
       "      <td>-2081423381</td>\n",
       "      <td>299928688</td>\n",
       "      <td>0.144365</td>\n",
       "      <td>0.142857</td>\n",
       "    </tr>\n",
       "    <tr>\n",
       "      <th>7523</th>\n",
       "      <td>-2124847790</td>\n",
       "      <td>392893</td>\n",
       "      <td>0.158868</td>\n",
       "      <td>0.142857</td>\n",
       "    </tr>\n",
       "    <tr>\n",
       "      <th>7524</th>\n",
       "      <td>-2105516048</td>\n",
       "      <td>872215</td>\n",
       "      <td>0.158868</td>\n",
       "      <td>0.142857</td>\n",
       "    </tr>\n",
       "    <tr>\n",
       "      <th>7525</th>\n",
       "      <td>-2098593807</td>\n",
       "      <td>472470</td>\n",
       "      <td>0.158868</td>\n",
       "      <td>0.111111</td>\n",
       "    </tr>\n",
       "    <tr>\n",
       "      <th>7526</th>\n",
       "      <td>-2118601389</td>\n",
       "      <td>701188</td>\n",
       "      <td>0.158868</td>\n",
       "      <td>0.142857</td>\n",
       "    </tr>\n",
       "    <tr>\n",
       "      <th>7527</th>\n",
       "      <td>-2087182344</td>\n",
       "      <td>83504606</td>\n",
       "      <td>0.158868</td>\n",
       "      <td>0.142857</td>\n",
       "    </tr>\n",
       "    <tr>\n",
       "      <th>7528</th>\n",
       "      <td>-2109086380</td>\n",
       "      <td>48536327</td>\n",
       "      <td>0.272444</td>\n",
       "      <td>0.428571</td>\n",
       "    </tr>\n",
       "    <tr>\n",
       "      <th>7529</th>\n",
       "      <td>-2109086380</td>\n",
       "      <td>52024447</td>\n",
       "      <td>0.260528</td>\n",
       "      <td>0.428571</td>\n",
       "    </tr>\n",
       "    <tr>\n",
       "      <th>7530</th>\n",
       "      <td>-2109086380</td>\n",
       "      <td>167939864</td>\n",
       "      <td>0.407866</td>\n",
       "      <td>0.142857</td>\n",
       "    </tr>\n",
       "    <tr>\n",
       "      <th>7531</th>\n",
       "      <td>-2106900483</td>\n",
       "      <td>350206</td>\n",
       "      <td>0.097160</td>\n",
       "      <td>0.142857</td>\n",
       "    </tr>\n",
       "    <tr>\n",
       "      <th>7532</th>\n",
       "      <td>-2106900483</td>\n",
       "      <td>1510598</td>\n",
       "      <td>0.144330</td>\n",
       "      <td>0.090909</td>\n",
       "    </tr>\n",
       "    <tr>\n",
       "      <th>7533</th>\n",
       "      <td>-2103549954</td>\n",
       "      <td>616341</td>\n",
       "      <td>0.143833</td>\n",
       "      <td>0.142857</td>\n",
       "    </tr>\n",
       "    <tr>\n",
       "      <th>7534</th>\n",
       "      <td>-2103549954</td>\n",
       "      <td>1985673</td>\n",
       "      <td>0.144224</td>\n",
       "      <td>0.142857</td>\n",
       "    </tr>\n",
       "    <tr>\n",
       "      <th>7535</th>\n",
       "      <td>-2103549954</td>\n",
       "      <td>33706237</td>\n",
       "      <td>0.143845</td>\n",
       "      <td>0.142857</td>\n",
       "    </tr>\n",
       "    <tr>\n",
       "      <th>7536</th>\n",
       "      <td>-2103700139</td>\n",
       "      <td>190463</td>\n",
       "      <td>0.115718</td>\n",
       "      <td>0.142857</td>\n",
       "    </tr>\n",
       "    <tr>\n",
       "      <th>7537</th>\n",
       "      <td>-2103700139</td>\n",
       "      <td>16153169</td>\n",
       "      <td>0.144401</td>\n",
       "      <td>0.111111</td>\n",
       "    </tr>\n",
       "  </tbody>\n",
       "</table>\n",
       "<p>7538 rows × 4 columns</p>\n",
       "</div>"
      ],
      "text/plain": [
       "               A          B         C         D\n",
       "0    -2080333824     155154  0.158868  0.142857\n",
       "1    -2106785788     729088  0.115750  0.142857\n",
       "2    -2106785788    1945528  0.144412  0.111111\n",
       "3    -2102370298  156171489  0.158868  0.142857\n",
       "4    -2145665013   28288615  0.144313  0.142857\n",
       "5    -2145665013   92447052  0.144313  0.142857\n",
       "6    -2101084148  111604897  0.144361  0.142857\n",
       "7    -2101084148  128901626  0.144361  0.142857\n",
       "8    -2139168754     780052  0.158868  0.428571\n",
       "9    -2085674948     802651  0.158868  0.111111\n",
       "10   -2098405360  211495112  0.158868  0.428571\n",
       "11   -2144804846     299397  0.158868  0.111111\n",
       "12   -2141282285   14132403  0.158868  0.142857\n",
       "13   -2109982598     111103  0.158868  0.142857\n",
       "14   -2146181098  146260634  0.158868  0.111111\n",
       "15   -2127772327    1342733  0.158868  0.428571\n",
       "16   -2100559848     763343  0.158868  0.090909\n",
       "17   -2129346529     179272  0.053100  0.142857\n",
       "18   -2129346529    1121796  0.144968  0.037037\n",
       "19   -2082162511  254506992  0.158868  0.142857\n",
       "20   -2088718109   17328689  0.158868  0.142857\n",
       "21   -2126901933   16692042  0.158868  0.142857\n",
       "22   -2140577749     106329  0.128797  0.142857\n",
       "23   -2140577749     496123  0.128593  0.142857\n",
       "24   -2140577749   16556014  0.143651  0.111111\n",
       "25   -2102894548     657881  0.158868  0.142857\n",
       "26   -2134163411    8711929  0.158868  0.142857\n",
       "27   -2111291345     715696  0.158868  0.428571\n",
       "28   -2140856272     366977  0.122600  0.142857\n",
       "29   -2140856272     638785  0.125341  0.142857\n",
       "...          ...        ...       ...       ...\n",
       "7508 -2107121698   66185712  0.158868  0.111111\n",
       "7509 -2083381281     295584  0.144373  0.142857\n",
       "7510 -2083381281    1547054  0.144373  0.142857\n",
       "7511 -2091728928     681379  0.104396  0.142857\n",
       "7512 -2091728928   70067532  0.146035  0.090909\n",
       "7513 -2098204677     162687  0.143273  0.142857\n",
       "7514 -2098204677     383345  0.143176  0.142857\n",
       "7515 -2098204677     524271  0.143174  0.142857\n",
       "7516 -2098204677    1072723  0.143186  0.142857\n",
       "7517 -2098204677    1313748  0.143160  0.142857\n",
       "7518 -2098204677    3692068  0.143187  0.142857\n",
       "7519 -2098204677   16439671  0.143170  0.142857\n",
       "7520 -2098204677  281352589  0.143305  0.142857\n",
       "7521 -2081423381   71663195  0.144365  0.142857\n",
       "7522 -2081423381  299928688  0.144365  0.142857\n",
       "7523 -2124847790     392893  0.158868  0.142857\n",
       "7524 -2105516048     872215  0.158868  0.142857\n",
       "7525 -2098593807     472470  0.158868  0.111111\n",
       "7526 -2118601389     701188  0.158868  0.142857\n",
       "7527 -2087182344   83504606  0.158868  0.142857\n",
       "7528 -2109086380   48536327  0.272444  0.428571\n",
       "7529 -2109086380   52024447  0.260528  0.428571\n",
       "7530 -2109086380  167939864  0.407866  0.142857\n",
       "7531 -2106900483     350206  0.097160  0.142857\n",
       "7532 -2106900483    1510598  0.144330  0.090909\n",
       "7533 -2103549954     616341  0.143833  0.142857\n",
       "7534 -2103549954    1985673  0.144224  0.142857\n",
       "7535 -2103549954   33706237  0.143845  0.142857\n",
       "7536 -2103700139     190463  0.115718  0.142857\n",
       "7537 -2103700139   16153169  0.144401  0.111111\n",
       "\n",
       "[7538 rows x 4 columns]"
      ]
     },
     "execution_count": 767,
     "metadata": {},
     "output_type": "execute_result"
    }
   ],
   "source": [
    "dfSh"
   ]
  },
  {
   "cell_type": "code",
   "execution_count": 768,
   "metadata": {
    "collapsed": false
   },
   "outputs": [],
   "source": [
    "result1=pd.merge(dfSh,dfSu,on=['A','B'])"
   ]
  },
  {
   "cell_type": "code",
   "execution_count": 769,
   "metadata": {
    "collapsed": false
   },
   "outputs": [],
   "source": [
    "val=result1.ix[1:800,:]"
   ]
  },
  {
   "cell_type": "code",
   "execution_count": 770,
   "metadata": {
    "collapsed": true
   },
   "outputs": [],
   "source": [
    "train=result1.ix[800:,:]"
   ]
  },
  {
   "cell_type": "code",
   "execution_count": 771,
   "metadata": {
    "collapsed": true
   },
   "outputs": [],
   "source": [
    "def loss(beta, df):\n",
    "    pred = beta[0]*df['C']+beta[1]*df['E']+beta[2]\n",
    "    return np.sum((pred-df['D'])**2), pred"
   ]
  },
  {
   "cell_type": "code",
   "execution_count": 772,
   "metadata": {
    "collapsed": true
   },
   "outputs": [],
   "source": [
    "from scipy import optimize as optm"
   ]
  },
  {
   "cell_type": "code",
   "execution_count": 773,
   "metadata": {
    "collapsed": false
   },
   "outputs": [
    {
     "data": {
      "text/plain": [
       "(7538, 6)"
      ]
     },
     "execution_count": 773,
     "metadata": {},
     "output_type": "execute_result"
    }
   ],
   "source": [
    "result1.shape"
   ]
  },
  {
   "cell_type": "code",
   "execution_count": 774,
   "metadata": {
    "collapsed": false
   },
   "outputs": [
    {
     "ename": "TypeError",
     "evalue": "unsupported operand type(s) for -: 'tuple' and 'tuple'",
     "output_type": "error",
     "traceback": [
      "\u001b[0;31m---------------------------------------------------------------------------\u001b[0m",
      "\u001b[0;31mTypeError\u001b[0m                                 Traceback (most recent call last)",
      "\u001b[0;32m<ipython-input-774-6989cc3be451>\u001b[0m in \u001b[0;36m<module>\u001b[0;34m()\u001b[0m\n\u001b[0;32m----> 1\u001b[0;31m \u001b[0mresultParameters\u001b[0m \u001b[0;34m=\u001b[0m \u001b[0moptm\u001b[0m\u001b[0;34m.\u001b[0m\u001b[0mminimize\u001b[0m\u001b[0;34m(\u001b[0m\u001b[0mfun\u001b[0m\u001b[0;34m=\u001b[0m\u001b[0mloss\u001b[0m\u001b[0;34m,\u001b[0m\u001b[0mx0\u001b[0m\u001b[0;34m=\u001b[0m\u001b[0;34m[\u001b[0m\u001b[0;36m0\u001b[0m\u001b[0;34m,\u001b[0m\u001b[0;36m0\u001b[0m\u001b[0;34m,\u001b[0m\u001b[0;36m0\u001b[0m\u001b[0;34m]\u001b[0m\u001b[0;34m,\u001b[0m\u001b[0margs\u001b[0m\u001b[0;34m=\u001b[0m\u001b[0mresult1\u001b[0m\u001b[0;34m,\u001b[0m\u001b[0mtol\u001b[0m\u001b[0;34m=\u001b[0m\u001b[0;36m1e-4\u001b[0m\u001b[0;34m,\u001b[0m\u001b[0moptions\u001b[0m\u001b[0;34m=\u001b[0m\u001b[0;34m{\u001b[0m\u001b[0;34m'maxiter'\u001b[0m\u001b[0;34m:\u001b[0m \u001b[0;36m10000000\u001b[0m\u001b[0;34m}\u001b[0m\u001b[0;34m)\u001b[0m\u001b[0;34m\u001b[0m\u001b[0m\n\u001b[0m\u001b[1;32m      2\u001b[0m \u001b[0mprint\u001b[0m\u001b[0;34m(\u001b[0m\u001b[0mresultParameters\u001b[0m\u001b[0;34m)\u001b[0m\u001b[0;34m\u001b[0m\u001b[0m\n",
      "\u001b[0;32m//anaconda/lib/python3.5/site-packages/scipy/optimize/_minimize.py\u001b[0m in \u001b[0;36mminimize\u001b[0;34m(fun, x0, args, method, jac, hess, hessp, bounds, constraints, tol, callback, options)\u001b[0m\n\u001b[1;32m    442\u001b[0m         \u001b[0;32mreturn\u001b[0m \u001b[0m_minimize_cg\u001b[0m\u001b[0;34m(\u001b[0m\u001b[0mfun\u001b[0m\u001b[0;34m,\u001b[0m \u001b[0mx0\u001b[0m\u001b[0;34m,\u001b[0m \u001b[0margs\u001b[0m\u001b[0;34m,\u001b[0m \u001b[0mjac\u001b[0m\u001b[0;34m,\u001b[0m \u001b[0mcallback\u001b[0m\u001b[0;34m,\u001b[0m \u001b[0;34m**\u001b[0m\u001b[0moptions\u001b[0m\u001b[0;34m)\u001b[0m\u001b[0;34m\u001b[0m\u001b[0m\n\u001b[1;32m    443\u001b[0m     \u001b[0;32melif\u001b[0m \u001b[0mmeth\u001b[0m \u001b[0;34m==\u001b[0m \u001b[0;34m'bfgs'\u001b[0m\u001b[0;34m:\u001b[0m\u001b[0;34m\u001b[0m\u001b[0m\n\u001b[0;32m--> 444\u001b[0;31m         \u001b[0;32mreturn\u001b[0m \u001b[0m_minimize_bfgs\u001b[0m\u001b[0;34m(\u001b[0m\u001b[0mfun\u001b[0m\u001b[0;34m,\u001b[0m \u001b[0mx0\u001b[0m\u001b[0;34m,\u001b[0m \u001b[0margs\u001b[0m\u001b[0;34m,\u001b[0m \u001b[0mjac\u001b[0m\u001b[0;34m,\u001b[0m \u001b[0mcallback\u001b[0m\u001b[0;34m,\u001b[0m \u001b[0;34m**\u001b[0m\u001b[0moptions\u001b[0m\u001b[0;34m)\u001b[0m\u001b[0;34m\u001b[0m\u001b[0m\n\u001b[0m\u001b[1;32m    445\u001b[0m     \u001b[0;32melif\u001b[0m \u001b[0mmeth\u001b[0m \u001b[0;34m==\u001b[0m \u001b[0;34m'newton-cg'\u001b[0m\u001b[0;34m:\u001b[0m\u001b[0;34m\u001b[0m\u001b[0m\n\u001b[1;32m    446\u001b[0m         return _minimize_newtoncg(fun, x0, args, jac, hess, hessp, callback,\n",
      "\u001b[0;32m//anaconda/lib/python3.5/site-packages/scipy/optimize/optimize.py\u001b[0m in \u001b[0;36m_minimize_bfgs\u001b[0;34m(fun, x0, args, jac, callback, gtol, norm, eps, maxiter, disp, return_all, **unknown_options)\u001b[0m\n\u001b[1;32m    911\u001b[0m     \u001b[0;32melse\u001b[0m\u001b[0;34m:\u001b[0m\u001b[0;34m\u001b[0m\u001b[0m\n\u001b[1;32m    912\u001b[0m         \u001b[0mgrad_calls\u001b[0m\u001b[0;34m,\u001b[0m \u001b[0mmyfprime\u001b[0m \u001b[0;34m=\u001b[0m \u001b[0mwrap_function\u001b[0m\u001b[0;34m(\u001b[0m\u001b[0mfprime\u001b[0m\u001b[0;34m,\u001b[0m \u001b[0margs\u001b[0m\u001b[0;34m)\u001b[0m\u001b[0;34m\u001b[0m\u001b[0m\n\u001b[0;32m--> 913\u001b[0;31m     \u001b[0mgfk\u001b[0m \u001b[0;34m=\u001b[0m \u001b[0mmyfprime\u001b[0m\u001b[0;34m(\u001b[0m\u001b[0mx0\u001b[0m\u001b[0;34m)\u001b[0m\u001b[0;34m\u001b[0m\u001b[0m\n\u001b[0m\u001b[1;32m    914\u001b[0m     \u001b[0mk\u001b[0m \u001b[0;34m=\u001b[0m \u001b[0;36m0\u001b[0m\u001b[0;34m\u001b[0m\u001b[0m\n\u001b[1;32m    915\u001b[0m     \u001b[0mN\u001b[0m \u001b[0;34m=\u001b[0m \u001b[0mlen\u001b[0m\u001b[0;34m(\u001b[0m\u001b[0mx0\u001b[0m\u001b[0;34m)\u001b[0m\u001b[0;34m\u001b[0m\u001b[0m\n",
      "\u001b[0;32m//anaconda/lib/python3.5/site-packages/scipy/optimize/optimize.py\u001b[0m in \u001b[0;36mfunction_wrapper\u001b[0;34m(*wrapper_args)\u001b[0m\n\u001b[1;32m    290\u001b[0m     \u001b[0;32mdef\u001b[0m \u001b[0mfunction_wrapper\u001b[0m\u001b[0;34m(\u001b[0m\u001b[0;34m*\u001b[0m\u001b[0mwrapper_args\u001b[0m\u001b[0;34m)\u001b[0m\u001b[0;34m:\u001b[0m\u001b[0;34m\u001b[0m\u001b[0m\n\u001b[1;32m    291\u001b[0m         \u001b[0mncalls\u001b[0m\u001b[0;34m[\u001b[0m\u001b[0;36m0\u001b[0m\u001b[0;34m]\u001b[0m \u001b[0;34m+=\u001b[0m \u001b[0;36m1\u001b[0m\u001b[0;34m\u001b[0m\u001b[0m\n\u001b[0;32m--> 292\u001b[0;31m         \u001b[0;32mreturn\u001b[0m \u001b[0mfunction\u001b[0m\u001b[0;34m(\u001b[0m\u001b[0;34m*\u001b[0m\u001b[0;34m(\u001b[0m\u001b[0mwrapper_args\u001b[0m \u001b[0;34m+\u001b[0m \u001b[0margs\u001b[0m\u001b[0;34m)\u001b[0m\u001b[0;34m)\u001b[0m\u001b[0;34m\u001b[0m\u001b[0m\n\u001b[0m\u001b[1;32m    293\u001b[0m \u001b[0;34m\u001b[0m\u001b[0m\n\u001b[1;32m    294\u001b[0m     \u001b[0;32mreturn\u001b[0m \u001b[0mncalls\u001b[0m\u001b[0;34m,\u001b[0m \u001b[0mfunction_wrapper\u001b[0m\u001b[0;34m\u001b[0m\u001b[0m\n",
      "\u001b[0;32m//anaconda/lib/python3.5/site-packages/scipy/optimize/optimize.py\u001b[0m in \u001b[0;36mapprox_fprime\u001b[0;34m(xk, f, epsilon, *args)\u001b[0m\n\u001b[1;32m    686\u001b[0m \u001b[0;34m\u001b[0m\u001b[0m\n\u001b[1;32m    687\u001b[0m     \"\"\"\n\u001b[0;32m--> 688\u001b[0;31m     \u001b[0;32mreturn\u001b[0m \u001b[0m_approx_fprime_helper\u001b[0m\u001b[0;34m(\u001b[0m\u001b[0mxk\u001b[0m\u001b[0;34m,\u001b[0m \u001b[0mf\u001b[0m\u001b[0;34m,\u001b[0m \u001b[0mepsilon\u001b[0m\u001b[0;34m,\u001b[0m \u001b[0margs\u001b[0m\u001b[0;34m=\u001b[0m\u001b[0margs\u001b[0m\u001b[0;34m)\u001b[0m\u001b[0;34m\u001b[0m\u001b[0m\n\u001b[0m\u001b[1;32m    689\u001b[0m \u001b[0;34m\u001b[0m\u001b[0m\n\u001b[1;32m    690\u001b[0m \u001b[0;34m\u001b[0m\u001b[0m\n",
      "\u001b[0;32m//anaconda/lib/python3.5/site-packages/scipy/optimize/optimize.py\u001b[0m in \u001b[0;36m_approx_fprime_helper\u001b[0;34m(xk, f, epsilon, args, f0)\u001b[0m\n\u001b[1;32m    626\u001b[0m         \u001b[0mei\u001b[0m\u001b[0;34m[\u001b[0m\u001b[0mk\u001b[0m\u001b[0;34m]\u001b[0m \u001b[0;34m=\u001b[0m \u001b[0;36m1.0\u001b[0m\u001b[0;34m\u001b[0m\u001b[0m\n\u001b[1;32m    627\u001b[0m         \u001b[0md\u001b[0m \u001b[0;34m=\u001b[0m \u001b[0mepsilon\u001b[0m \u001b[0;34m*\u001b[0m \u001b[0mei\u001b[0m\u001b[0;34m\u001b[0m\u001b[0m\n\u001b[0;32m--> 628\u001b[0;31m         \u001b[0mgrad\u001b[0m\u001b[0;34m[\u001b[0m\u001b[0mk\u001b[0m\u001b[0;34m]\u001b[0m \u001b[0;34m=\u001b[0m \u001b[0;34m(\u001b[0m\u001b[0mf\u001b[0m\u001b[0;34m(\u001b[0m\u001b[0;34m*\u001b[0m\u001b[0;34m(\u001b[0m\u001b[0;34m(\u001b[0m\u001b[0mxk\u001b[0m \u001b[0;34m+\u001b[0m \u001b[0md\u001b[0m\u001b[0;34m,\u001b[0m\u001b[0;34m)\u001b[0m \u001b[0;34m+\u001b[0m \u001b[0margs\u001b[0m\u001b[0;34m)\u001b[0m\u001b[0;34m)\u001b[0m \u001b[0;34m-\u001b[0m \u001b[0mf0\u001b[0m\u001b[0;34m)\u001b[0m \u001b[0;34m/\u001b[0m \u001b[0md\u001b[0m\u001b[0;34m[\u001b[0m\u001b[0mk\u001b[0m\u001b[0;34m]\u001b[0m\u001b[0;34m\u001b[0m\u001b[0m\n\u001b[0m\u001b[1;32m    629\u001b[0m         \u001b[0mei\u001b[0m\u001b[0;34m[\u001b[0m\u001b[0mk\u001b[0m\u001b[0;34m]\u001b[0m \u001b[0;34m=\u001b[0m \u001b[0;36m0.0\u001b[0m\u001b[0;34m\u001b[0m\u001b[0m\n\u001b[1;32m    630\u001b[0m     \u001b[0;32mreturn\u001b[0m \u001b[0mgrad\u001b[0m\u001b[0;34m\u001b[0m\u001b[0m\n",
      "\u001b[0;31mTypeError\u001b[0m: unsupported operand type(s) for -: 'tuple' and 'tuple'"
     ]
    }
   ],
   "source": [
    "resultParameters = optm.minimize(fun=loss,x0=[0,0,0],args=result1,tol=1e-4,options={'maxiter': 10000000})\n",
    "print(resultParameters)"
   ]
  },
  {
   "cell_type": "code",
   "execution_count": null,
   "metadata": {
    "collapsed": false
   },
   "outputs": [],
   "source": [
    "\n",
    "\n"
   ]
  },
  {
   "cell_type": "code",
   "execution_count": null,
   "metadata": {
    "collapsed": false
   },
   "outputs": [],
   "source": [
    "\n",
    "\n"
   ]
  },
  {
   "cell_type": "code",
   "execution_count": null,
   "metadata": {
    "collapsed": false
   },
   "outputs": [],
   "source": []
  },
  {
   "cell_type": "code",
   "execution_count": null,
   "metadata": {
    "collapsed": false
   },
   "outputs": [],
   "source": [
    "len(df)"
   ]
  },
  {
   "cell_type": "code",
   "execution_count": null,
   "metadata": {
    "collapsed": false
   },
   "outputs": [],
   "source": [
    "def grad(beta,df):\n",
    "    kk=(beta[0]*df['C']+beta[1]*df['E']+beta[2]-df['D'])\n",
    "    #return np.array([2*np.dot(kk,df['C']),2*np.dot(kk,df['D']),np.sum(2*kk)])\n",
    "    return np.array([2*np.dot(kk,df['C']),0,np.sum(2*kk)])"
   ]
  },
  {
   "cell_type": "code",
   "execution_count": null,
   "metadata": {
    "collapsed": false
   },
   "outputs": [],
   "source": [
    "x1=np.array([1,2,3])\n",
    "x2=np.array([4,5,6])"
   ]
  },
  {
   "cell_type": "code",
   "execution_count": null,
   "metadata": {
    "collapsed": false
   },
   "outputs": [],
   "source": [
    "np.dot(x1,x2)"
   ]
  },
  {
   "cell_type": "code",
   "execution_count": null,
   "metadata": {
    "collapsed": true
   },
   "outputs": [],
   "source": []
  },
  {
   "cell_type": "code",
   "execution_count": null,
   "metadata": {
    "collapsed": false
   },
   "outputs": [],
   "source": [
    "#train , val, test = ...\n",
    "\n",
    "#loss(beta,df)  # loss, pred s_hat\n",
    "#grad(beta,df)  # gradient   output[2*s_hat *s1,2*s_hat *s2,2*s_hat ]\n",
    "\n",
    "maxIter = 50000\n",
    "beta = np.array([1,0,1]).astype('float64')\n",
    "lr = 1e-6\n",
    "\n",
    "for iter in range(maxIter):\n",
    "    beta -= [lr*x for x in grad(beta,train)]\n",
    "    loss_train, _ = loss(beta, train)\n",
    "    loss_val, _ = loss(beta, val)\n",
    "    if iter%1000==0:\n",
    "        print(iter,loss_train, loss_val)\n",
    "\n",
    "\n"
   ]
  },
  {
   "cell_type": "code",
   "execution_count": null,
   "metadata": {
    "collapsed": false
   },
   "outputs": [],
   "source": [
    "loss_test, pred = loss(beta,train)  # output the prediction error\n",
    "\n",
    "beta"
   ]
  },
  {
   "cell_type": "code",
   "execution_count": null,
   "metadata": {
    "collapsed": false
   },
   "outputs": [],
   "source": [
    "plt.plot(pred, train['D'],'o')\n",
    "plt.show()"
   ]
  },
  {
   "cell_type": "code",
   "execution_count": null,
   "metadata": {
    "collapsed": true
   },
   "outputs": [],
   "source": []
  },
  {
   "cell_type": "code",
   "execution_count": null,
   "metadata": {
    "collapsed": true
   },
   "outputs": [],
   "source": []
  },
  {
   "cell_type": "code",
   "execution_count": null,
   "metadata": {
    "collapsed": true
   },
   "outputs": [],
   "source": []
  },
  {
   "cell_type": "code",
   "execution_count": null,
   "metadata": {
    "collapsed": true
   },
   "outputs": [],
   "source": []
  },
  {
   "cell_type": "code",
   "execution_count": null,
   "metadata": {
    "collapsed": true
   },
   "outputs": [],
   "source": [
    "import matplotlib.pyplot as plt"
   ]
  },
  {
   "cell_type": "code",
   "execution_count": null,
   "metadata": {
    "collapsed": false
   },
   "outputs": [],
   "source": [
    "plt.plot(dfSu['E'],dfSu['F'],'o')\n",
    "plt.show()"
   ]
  },
  {
   "cell_type": "code",
   "execution_count": null,
   "metadata": {
    "collapsed": false
   },
   "outputs": [],
   "source": [
    "dfSu['E']"
   ]
  },
  {
   "cell_type": "code",
   "execution_count": null,
   "metadata": {
    "collapsed": true
   },
   "outputs": [],
   "source": [
    "trunc_TEST = dat.ix[1000:1200,:]"
   ]
  },
  {
   "cell_type": "code",
   "execution_count": null,
   "metadata": {
    "collapsed": true
   },
   "outputs": [],
   "source": []
  },
  {
   "cell_type": "code",
   "execution_count": null,
   "metadata": {
    "collapsed": true
   },
   "outputs": [],
   "source": []
  },
  {
   "cell_type": "code",
   "execution_count": null,
   "metadata": {
    "collapsed": true
   },
   "outputs": [],
   "source": []
  }
 ],
 "metadata": {
  "anaconda-cloud": {},
  "kernelspec": {
   "display_name": "Python 3",
   "language": "python",
   "name": "python3"
  },
  "language_info": {
   "codemirror_mode": {
    "name": "ipython",
    "version": 3
   },
   "file_extension": ".py",
   "mimetype": "text/x-python",
   "name": "python",
   "nbconvert_exporter": "python",
   "pygments_lexer": "ipython3",
   "version": "3.5.1"
  }
 },
 "nbformat": 4,
 "nbformat_minor": 0
}
